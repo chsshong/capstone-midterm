{
 "cells": [
  {
   "cell_type": "markdown",
   "id": "2916cb0d",
   "metadata": {},
   "source": [
    "###### Analysis of covid-19 effects on crime rates in Atlanta.\n",
    "\n",
    "Finding covid-19 impacts on crimes and different types of crimes during 2020.\n",
    "\n",
    "Comparing crime rates from 2016-2020.\n",
    "\n",
    "How did covid-19 lockdown impact crime rate?\n",
    "\n",
    "Were there any significant changes in different types of crimes due to covid19?\n"
   ]
  },
  {
   "cell_type": "code",
   "execution_count": 1,
   "id": "278f7a12",
   "metadata": {},
   "outputs": [],
   "source": [
    "import pandas as pd\n",
    "import numpy as np\n",
    "import matplotlib as mpl\n",
    "from matplotlib import pyplot as plt\n",
    "pd.set_option('display.max_columns', None)\n",
    "import datetime as dt\n",
    "import seaborn as sns\n",
    "import matplotlib.dates as mdates"
   ]
  },
  {
   "cell_type": "code",
   "execution_count": 2,
   "id": "dc9f2482",
   "metadata": {
    "scrolled": true
   },
   "outputs": [
    {
     "name": "stderr",
     "output_type": "stream",
     "text": [
      "/home/chsshong/anaconda3/lib/python3.8/site-packages/IPython/core/interactiveshell.py:3444: DtypeWarning: Columns (3,11) have mixed types.Specify dtype option on import or set low_memory=False.\n",
      "  exec(code_obj, self.user_global_ns, self.user_ns)\n"
     ]
    }
   ],
   "source": [
    "crimes_2016_2019_df = pd.read_csv('data/COBRA-2016-2019.csv')\n",
    "crimes_2020_1_df = pd.read_csv('data/COBRA-2020-OldRMS-09292020.csv')\n",
    "crimes_2020_2_df = pd.read_csv('data/COBRA-2020(NEW RMS 9-30 12-31).csv')\n",
    "crimes_2021_df = pd.read_csv('data/COBRA-2021.csv')\n",
    "covid19_2020_df = pd.read_csv('data/epicurve_rpt_date.csv')"
   ]
  },
  {
   "cell_type": "code",
   "execution_count": 3,
   "id": "ae041d89",
   "metadata": {},
   "outputs": [],
   "source": [
    "#Concatenate two or more dataframes\n",
    "def concat_df(df1,df2,df3=pd.DataFrame(),df4=pd.DataFrame()):\n",
    "    df = pd.concat([df1, df2, df3, df4], axis=0)\n",
    "    return df"
   ]
  },
  {
   "cell_type": "code",
   "execution_count": 4,
   "id": "f59721a2",
   "metadata": {
    "scrolled": false
   },
   "outputs": [],
   "source": [
    "crimes_df = concat_df(crimes_2016_2019_df, crimes_2020_1_df, crimes_2020_2_df,crimes_2021_df)"
   ]
  },
  {
   "cell_type": "code",
   "execution_count": 5,
   "id": "78b636ff",
   "metadata": {
    "scrolled": true
   },
   "outputs": [
    {
     "name": "stdout",
     "output_type": "stream",
     "text": [
      "<class 'pandas.core.frame.DataFrame'>\n",
      "Int64Index: 146716 entries, 0 to 18779\n",
      "Data columns (total 20 columns):\n",
      " #   Column                   Non-Null Count   Dtype  \n",
      "---  ------                   --------------   -----  \n",
      " 0   Report Number            146716 non-null  int64  \n",
      " 1   Report Date              146716 non-null  object \n",
      " 2   Occur Date               146700 non-null  object \n",
      " 3   Occur Time               146700 non-null  object \n",
      " 4   Possible Date            146199 non-null  object \n",
      " 5   Possible Time            146198 non-null  object \n",
      " 6   Beat                     146672 non-null  object \n",
      " 7   Apartment Office Prefix  2664 non-null    object \n",
      " 8   Apartment Number         20807 non-null   object \n",
      " 9   Location                 146716 non-null  object \n",
      " 10  Shift Occurence          105856 non-null  object \n",
      " 11  Location Type            112525 non-null  object \n",
      " 12  UCR Literal              146716 non-null  object \n",
      " 13  UCR #                    146715 non-null  object \n",
      " 14  IBR Code                 105839 non-null  object \n",
      " 15  Neighborhood             140899 non-null  object \n",
      " 16  NPU                      146189 non-null  object \n",
      " 17  Latitude                 146715 non-null  float64\n",
      " 18  Longitude                146716 non-null  float64\n",
      " 19  Shift occurence          14440 non-null   object \n",
      "dtypes: float64(2), int64(1), object(17)\n",
      "memory usage: 23.5+ MB\n"
     ]
    }
   ],
   "source": [
    "crimes_df.info()"
   ]
  },
  {
   "cell_type": "code",
   "execution_count": 6,
   "id": "448ed8a2",
   "metadata": {},
   "outputs": [],
   "source": [
    "lst_keep_column = ['Report Number', 'Occur Date', 'UCR Literal']"
   ]
  },
  {
   "cell_type": "code",
   "execution_count": 7,
   "id": "be0dcd16",
   "metadata": {},
   "outputs": [],
   "source": [
    "#Drop columns that won't be used\n",
    "def drop_columns(df):\n",
    "    df = df.drop(columns=[col for col in df if col not in lst_keep_column], axis=1)\n",
    "    return df"
   ]
  },
  {
   "cell_type": "code",
   "execution_count": 8,
   "id": "ca8dc720",
   "metadata": {
    "scrolled": true
   },
   "outputs": [],
   "source": [
    "crimes_df = drop_columns(crimes_df)"
   ]
  },
  {
   "cell_type": "code",
   "execution_count": 9,
   "id": "62968275",
   "metadata": {
    "scrolled": true
   },
   "outputs": [
    {
     "name": "stdout",
     "output_type": "stream",
     "text": [
      "<class 'pandas.core.frame.DataFrame'>\n",
      "Int64Index: 146716 entries, 0 to 18779\n",
      "Data columns (total 3 columns):\n",
      " #   Column         Non-Null Count   Dtype \n",
      "---  ------         --------------   ----- \n",
      " 0   Report Number  146716 non-null  int64 \n",
      " 1   Occur Date     146700 non-null  object\n",
      " 2   UCR Literal    146716 non-null  object\n",
      "dtypes: int64(1), object(2)\n",
      "memory usage: 4.5+ MB\n"
     ]
    }
   ],
   "source": [
    "crimes_df.info()"
   ]
  },
  {
   "cell_type": "code",
   "execution_count": 10,
   "id": "95a9008b",
   "metadata": {},
   "outputs": [],
   "source": [
    "#Drop null and nan values in column\n",
    "def dropna_df(df,col):\n",
    "    df = df.dropna(subset=[col],how='all')\n",
    "    return df"
   ]
  },
  {
   "cell_type": "code",
   "execution_count": 11,
   "id": "dd123c39",
   "metadata": {},
   "outputs": [],
   "source": [
    "crimes_df = dropna_df(crimes_df,'Occur Date')"
   ]
  },
  {
   "cell_type": "code",
   "execution_count": 12,
   "id": "cacefd0d",
   "metadata": {},
   "outputs": [],
   "source": [
    "crimes_df = dropna_df(crimes_df,'UCR Literal')"
   ]
  },
  {
   "cell_type": "code",
   "execution_count": 13,
   "id": "3bd8de16",
   "metadata": {},
   "outputs": [
    {
     "name": "stdout",
     "output_type": "stream",
     "text": [
      "<class 'pandas.core.frame.DataFrame'>\n",
      "Int64Index: 146700 entries, 0 to 18769\n",
      "Data columns (total 3 columns):\n",
      " #   Column         Non-Null Count   Dtype \n",
      "---  ------         --------------   ----- \n",
      " 0   Report Number  146700 non-null  int64 \n",
      " 1   Occur Date     146700 non-null  object\n",
      " 2   UCR Literal    146700 non-null  object\n",
      "dtypes: int64(1), object(2)\n",
      "memory usage: 4.5+ MB\n"
     ]
    }
   ],
   "source": [
    "crimes_df.info()"
   ]
  },
  {
   "cell_type": "code",
   "execution_count": 14,
   "id": "0fa82729",
   "metadata": {},
   "outputs": [],
   "source": [
    "#Show sorted list of unique values\n",
    "def unique_vals(df, col):\n",
    "    return sorted(df[col].unique())"
   ]
  },
  {
   "cell_type": "code",
   "execution_count": 15,
   "id": "8280a5a1",
   "metadata": {
    "scrolled": true
   },
   "outputs": [
    {
     "data": {
      "text/plain": [
       "['AGG ASSAULT',\n",
       " 'AUTO THEFT',\n",
       " 'BURGLARY',\n",
       " 'BURGLARY-NONRES',\n",
       " 'BURGLARY-RESIDENCE',\n",
       " 'HOMICIDE',\n",
       " 'LARCENY-FROM VEHICLE',\n",
       " 'LARCENY-NON VEHICLE',\n",
       " 'MANSLAUGHTER',\n",
       " 'ROBBERY',\n",
       " 'ROBBERY-COMMERCIAL',\n",
       " 'ROBBERY-PEDESTRIAN',\n",
       " 'ROBBERY-RESIDENCE']"
      ]
     },
     "execution_count": 15,
     "metadata": {},
     "output_type": "execute_result"
    }
   ],
   "source": [
    "unique_vals(crimes_df, 'UCR Literal')"
   ]
  },
  {
   "cell_type": "code",
   "execution_count": 16,
   "id": "c327d58b",
   "metadata": {},
   "outputs": [],
   "source": [
    "#Convert date column to datetime\n",
    "def date_time(df, col):\n",
    "    df[col] = pd.to_datetime(df[col], errors='coerce')\n",
    "    return df[col]"
   ]
  },
  {
   "cell_type": "code",
   "execution_count": 17,
   "id": "b5a495d3",
   "metadata": {
    "scrolled": true
   },
   "outputs": [
    {
     "data": {
      "text/plain": [
       "0       2016-01-01\n",
       "1       2016-01-01\n",
       "2       2016-01-01\n",
       "3       2016-01-01\n",
       "4       2016-01-01\n",
       "           ...    \n",
       "18765   2021-11-17\n",
       "18766   2021-11-18\n",
       "18767   2021-11-18\n",
       "18768   2021-11-18\n",
       "18769   2021-11-18\n",
       "Name: Occur Date, Length: 146700, dtype: datetime64[ns]"
      ]
     },
     "execution_count": 17,
     "metadata": {},
     "output_type": "execute_result"
    }
   ],
   "source": [
    "date_time(crimes_df, 'Occur Date')"
   ]
  },
  {
   "cell_type": "code",
   "execution_count": 18,
   "id": "8a532780",
   "metadata": {},
   "outputs": [
    {
     "name": "stdout",
     "output_type": "stream",
     "text": [
      "<class 'pandas.core.frame.DataFrame'>\n",
      "Int64Index: 146700 entries, 0 to 18769\n",
      "Data columns (total 3 columns):\n",
      " #   Column         Non-Null Count   Dtype         \n",
      "---  ------         --------------   -----         \n",
      " 0   Report Number  146700 non-null  int64         \n",
      " 1   Occur Date     146698 non-null  datetime64[ns]\n",
      " 2   UCR Literal    146700 non-null  object        \n",
      "dtypes: datetime64[ns](1), int64(1), object(1)\n",
      "memory usage: 4.5+ MB\n"
     ]
    }
   ],
   "source": [
    "crimes_df.info()"
   ]
  },
  {
   "cell_type": "code",
   "execution_count": 19,
   "id": "e1338544",
   "metadata": {},
   "outputs": [],
   "source": [
    "#Create new column of \"Year\" from Date column\n",
    "def col_year(df, col):\n",
    "    df[col] = pd.DatetimeIndex(df['Occur Date']).year\n",
    "    return df"
   ]
  },
  {
   "cell_type": "code",
   "execution_count": 20,
   "id": "d163c64f",
   "metadata": {
    "scrolled": true
   },
   "outputs": [
    {
     "data": {
      "text/html": [
       "<div>\n",
       "<style scoped>\n",
       "    .dataframe tbody tr th:only-of-type {\n",
       "        vertical-align: middle;\n",
       "    }\n",
       "\n",
       "    .dataframe tbody tr th {\n",
       "        vertical-align: top;\n",
       "    }\n",
       "\n",
       "    .dataframe thead th {\n",
       "        text-align: right;\n",
       "    }\n",
       "</style>\n",
       "<table border=\"1\" class=\"dataframe\">\n",
       "  <thead>\n",
       "    <tr style=\"text-align: right;\">\n",
       "      <th></th>\n",
       "      <th>Report Number</th>\n",
       "      <th>Occur Date</th>\n",
       "      <th>UCR Literal</th>\n",
       "      <th>Year</th>\n",
       "    </tr>\n",
       "  </thead>\n",
       "  <tbody>\n",
       "    <tr>\n",
       "      <th>0</th>\n",
       "      <td>160011550</td>\n",
       "      <td>2016-01-01</td>\n",
       "      <td>LARCENY-NON VEHICLE</td>\n",
       "      <td>2016.0</td>\n",
       "    </tr>\n",
       "    <tr>\n",
       "      <th>1</th>\n",
       "      <td>160011569</td>\n",
       "      <td>2016-01-01</td>\n",
       "      <td>LARCENY-NON VEHICLE</td>\n",
       "      <td>2016.0</td>\n",
       "    </tr>\n",
       "    <tr>\n",
       "      <th>2</th>\n",
       "      <td>160011645</td>\n",
       "      <td>2016-01-01</td>\n",
       "      <td>LARCENY-NON VEHICLE</td>\n",
       "      <td>2016.0</td>\n",
       "    </tr>\n",
       "    <tr>\n",
       "      <th>3</th>\n",
       "      <td>160011823</td>\n",
       "      <td>2016-01-01</td>\n",
       "      <td>LARCENY-NON VEHICLE</td>\n",
       "      <td>2016.0</td>\n",
       "    </tr>\n",
       "    <tr>\n",
       "      <th>4</th>\n",
       "      <td>160011975</td>\n",
       "      <td>2016-01-01</td>\n",
       "      <td>LARCENY-NON VEHICLE</td>\n",
       "      <td>2016.0</td>\n",
       "    </tr>\n",
       "    <tr>\n",
       "      <th>...</th>\n",
       "      <td>...</td>\n",
       "      <td>...</td>\n",
       "      <td>...</td>\n",
       "      <td>...</td>\n",
       "    </tr>\n",
       "    <tr>\n",
       "      <th>18765</th>\n",
       "      <td>213220373</td>\n",
       "      <td>2021-11-17</td>\n",
       "      <td>LARCENY-FROM VEHICLE</td>\n",
       "      <td>2021.0</td>\n",
       "    </tr>\n",
       "    <tr>\n",
       "      <th>18766</th>\n",
       "      <td>213220021</td>\n",
       "      <td>2021-11-18</td>\n",
       "      <td>LARCENY-FROM VEHICLE</td>\n",
       "      <td>2021.0</td>\n",
       "    </tr>\n",
       "    <tr>\n",
       "      <th>18767</th>\n",
       "      <td>213220048</td>\n",
       "      <td>2021-11-18</td>\n",
       "      <td>LARCENY-FROM VEHICLE</td>\n",
       "      <td>2021.0</td>\n",
       "    </tr>\n",
       "    <tr>\n",
       "      <th>18768</th>\n",
       "      <td>213220150</td>\n",
       "      <td>2021-11-18</td>\n",
       "      <td>LARCENY-NON VEHICLE</td>\n",
       "      <td>2021.0</td>\n",
       "    </tr>\n",
       "    <tr>\n",
       "      <th>18769</th>\n",
       "      <td>213220415</td>\n",
       "      <td>2021-11-18</td>\n",
       "      <td>LARCENY-NON VEHICLE</td>\n",
       "      <td>2021.0</td>\n",
       "    </tr>\n",
       "  </tbody>\n",
       "</table>\n",
       "<p>146700 rows × 4 columns</p>\n",
       "</div>"
      ],
      "text/plain": [
       "       Report Number Occur Date           UCR Literal    Year\n",
       "0          160011550 2016-01-01   LARCENY-NON VEHICLE  2016.0\n",
       "1          160011569 2016-01-01   LARCENY-NON VEHICLE  2016.0\n",
       "2          160011645 2016-01-01   LARCENY-NON VEHICLE  2016.0\n",
       "3          160011823 2016-01-01   LARCENY-NON VEHICLE  2016.0\n",
       "4          160011975 2016-01-01   LARCENY-NON VEHICLE  2016.0\n",
       "...              ...        ...                   ...     ...\n",
       "18765      213220373 2021-11-17  LARCENY-FROM VEHICLE  2021.0\n",
       "18766      213220021 2021-11-18  LARCENY-FROM VEHICLE  2021.0\n",
       "18767      213220048 2021-11-18  LARCENY-FROM VEHICLE  2021.0\n",
       "18768      213220150 2021-11-18   LARCENY-NON VEHICLE  2021.0\n",
       "18769      213220415 2021-11-18   LARCENY-NON VEHICLE  2021.0\n",
       "\n",
       "[146700 rows x 4 columns]"
      ]
     },
     "execution_count": 20,
     "metadata": {},
     "output_type": "execute_result"
    }
   ],
   "source": [
    "col_year(crimes_df, 'Year')"
   ]
  },
  {
   "cell_type": "code",
   "execution_count": 21,
   "id": "94b192b3",
   "metadata": {},
   "outputs": [],
   "source": [
    "#Create new column of \"Month\" from Date column\n",
    "def col_year(df, col):\n",
    "    df[col] = pd.DatetimeIndex(df['Occur Date']).month\n",
    "    return df"
   ]
  },
  {
   "cell_type": "code",
   "execution_count": 22,
   "id": "a1e1ad76",
   "metadata": {},
   "outputs": [
    {
     "data": {
      "text/html": [
       "<div>\n",
       "<style scoped>\n",
       "    .dataframe tbody tr th:only-of-type {\n",
       "        vertical-align: middle;\n",
       "    }\n",
       "\n",
       "    .dataframe tbody tr th {\n",
       "        vertical-align: top;\n",
       "    }\n",
       "\n",
       "    .dataframe thead th {\n",
       "        text-align: right;\n",
       "    }\n",
       "</style>\n",
       "<table border=\"1\" class=\"dataframe\">\n",
       "  <thead>\n",
       "    <tr style=\"text-align: right;\">\n",
       "      <th></th>\n",
       "      <th>Report Number</th>\n",
       "      <th>Occur Date</th>\n",
       "      <th>UCR Literal</th>\n",
       "      <th>Year</th>\n",
       "      <th>Month</th>\n",
       "    </tr>\n",
       "  </thead>\n",
       "  <tbody>\n",
       "    <tr>\n",
       "      <th>0</th>\n",
       "      <td>160011550</td>\n",
       "      <td>2016-01-01</td>\n",
       "      <td>LARCENY-NON VEHICLE</td>\n",
       "      <td>2016.0</td>\n",
       "      <td>1.0</td>\n",
       "    </tr>\n",
       "    <tr>\n",
       "      <th>1</th>\n",
       "      <td>160011569</td>\n",
       "      <td>2016-01-01</td>\n",
       "      <td>LARCENY-NON VEHICLE</td>\n",
       "      <td>2016.0</td>\n",
       "      <td>1.0</td>\n",
       "    </tr>\n",
       "    <tr>\n",
       "      <th>2</th>\n",
       "      <td>160011645</td>\n",
       "      <td>2016-01-01</td>\n",
       "      <td>LARCENY-NON VEHICLE</td>\n",
       "      <td>2016.0</td>\n",
       "      <td>1.0</td>\n",
       "    </tr>\n",
       "    <tr>\n",
       "      <th>3</th>\n",
       "      <td>160011823</td>\n",
       "      <td>2016-01-01</td>\n",
       "      <td>LARCENY-NON VEHICLE</td>\n",
       "      <td>2016.0</td>\n",
       "      <td>1.0</td>\n",
       "    </tr>\n",
       "    <tr>\n",
       "      <th>4</th>\n",
       "      <td>160011975</td>\n",
       "      <td>2016-01-01</td>\n",
       "      <td>LARCENY-NON VEHICLE</td>\n",
       "      <td>2016.0</td>\n",
       "      <td>1.0</td>\n",
       "    </tr>\n",
       "    <tr>\n",
       "      <th>...</th>\n",
       "      <td>...</td>\n",
       "      <td>...</td>\n",
       "      <td>...</td>\n",
       "      <td>...</td>\n",
       "      <td>...</td>\n",
       "    </tr>\n",
       "    <tr>\n",
       "      <th>18765</th>\n",
       "      <td>213220373</td>\n",
       "      <td>2021-11-17</td>\n",
       "      <td>LARCENY-FROM VEHICLE</td>\n",
       "      <td>2021.0</td>\n",
       "      <td>11.0</td>\n",
       "    </tr>\n",
       "    <tr>\n",
       "      <th>18766</th>\n",
       "      <td>213220021</td>\n",
       "      <td>2021-11-18</td>\n",
       "      <td>LARCENY-FROM VEHICLE</td>\n",
       "      <td>2021.0</td>\n",
       "      <td>11.0</td>\n",
       "    </tr>\n",
       "    <tr>\n",
       "      <th>18767</th>\n",
       "      <td>213220048</td>\n",
       "      <td>2021-11-18</td>\n",
       "      <td>LARCENY-FROM VEHICLE</td>\n",
       "      <td>2021.0</td>\n",
       "      <td>11.0</td>\n",
       "    </tr>\n",
       "    <tr>\n",
       "      <th>18768</th>\n",
       "      <td>213220150</td>\n",
       "      <td>2021-11-18</td>\n",
       "      <td>LARCENY-NON VEHICLE</td>\n",
       "      <td>2021.0</td>\n",
       "      <td>11.0</td>\n",
       "    </tr>\n",
       "    <tr>\n",
       "      <th>18769</th>\n",
       "      <td>213220415</td>\n",
       "      <td>2021-11-18</td>\n",
       "      <td>LARCENY-NON VEHICLE</td>\n",
       "      <td>2021.0</td>\n",
       "      <td>11.0</td>\n",
       "    </tr>\n",
       "  </tbody>\n",
       "</table>\n",
       "<p>146700 rows × 5 columns</p>\n",
       "</div>"
      ],
      "text/plain": [
       "       Report Number Occur Date           UCR Literal    Year  Month\n",
       "0          160011550 2016-01-01   LARCENY-NON VEHICLE  2016.0    1.0\n",
       "1          160011569 2016-01-01   LARCENY-NON VEHICLE  2016.0    1.0\n",
       "2          160011645 2016-01-01   LARCENY-NON VEHICLE  2016.0    1.0\n",
       "3          160011823 2016-01-01   LARCENY-NON VEHICLE  2016.0    1.0\n",
       "4          160011975 2016-01-01   LARCENY-NON VEHICLE  2016.0    1.0\n",
       "...              ...        ...                   ...     ...    ...\n",
       "18765      213220373 2021-11-17  LARCENY-FROM VEHICLE  2021.0   11.0\n",
       "18766      213220021 2021-11-18  LARCENY-FROM VEHICLE  2021.0   11.0\n",
       "18767      213220048 2021-11-18  LARCENY-FROM VEHICLE  2021.0   11.0\n",
       "18768      213220150 2021-11-18   LARCENY-NON VEHICLE  2021.0   11.0\n",
       "18769      213220415 2021-11-18   LARCENY-NON VEHICLE  2021.0   11.0\n",
       "\n",
       "[146700 rows x 5 columns]"
      ]
     },
     "execution_count": 22,
     "metadata": {},
     "output_type": "execute_result"
    }
   ],
   "source": [
    "col_year(crimes_df, 'Month')"
   ]
  },
  {
   "cell_type": "code",
   "execution_count": 23,
   "id": "906629f7",
   "metadata": {},
   "outputs": [],
   "source": [
    "#Select \"Occur Date\" range starting at 2016-01-01\n",
    "crimes_df = crimes_df[crimes_df['Occur Date'] >= '2016-01-01']"
   ]
  },
  {
   "cell_type": "code",
   "execution_count": 24,
   "id": "75c480ec",
   "metadata": {},
   "outputs": [],
   "source": [
    "#Create new column of Month as String format mmm\n",
    "def col_mmm(df, col):\n",
    "    df[col] = df['Occur Date'].dt.strftime('%b')\n",
    "    return df"
   ]
  },
  {
   "cell_type": "code",
   "execution_count": 25,
   "id": "b2add625",
   "metadata": {
    "scrolled": true
   },
   "outputs": [
    {
     "name": "stderr",
     "output_type": "stream",
     "text": [
      "/tmp/ipykernel_2861/1714475895.py:3: SettingWithCopyWarning: \n",
      "A value is trying to be set on a copy of a slice from a DataFrame.\n",
      "Try using .loc[row_indexer,col_indexer] = value instead\n",
      "\n",
      "See the caveats in the documentation: https://pandas.pydata.org/pandas-docs/stable/user_guide/indexing.html#returning-a-view-versus-a-copy\n",
      "  df[col] = df['Occur Date'].dt.strftime('%b')\n"
     ]
    },
    {
     "data": {
      "text/html": [
       "<div>\n",
       "<style scoped>\n",
       "    .dataframe tbody tr th:only-of-type {\n",
       "        vertical-align: middle;\n",
       "    }\n",
       "\n",
       "    .dataframe tbody tr th {\n",
       "        vertical-align: top;\n",
       "    }\n",
       "\n",
       "    .dataframe thead th {\n",
       "        text-align: right;\n",
       "    }\n",
       "</style>\n",
       "<table border=\"1\" class=\"dataframe\">\n",
       "  <thead>\n",
       "    <tr style=\"text-align: right;\">\n",
       "      <th></th>\n",
       "      <th>Report Number</th>\n",
       "      <th>Occur Date</th>\n",
       "      <th>UCR Literal</th>\n",
       "      <th>Year</th>\n",
       "      <th>Month</th>\n",
       "      <th>MMM</th>\n",
       "    </tr>\n",
       "  </thead>\n",
       "  <tbody>\n",
       "    <tr>\n",
       "      <th>0</th>\n",
       "      <td>160011550</td>\n",
       "      <td>2016-01-01</td>\n",
       "      <td>LARCENY-NON VEHICLE</td>\n",
       "      <td>2016.0</td>\n",
       "      <td>1.0</td>\n",
       "      <td>Jan</td>\n",
       "    </tr>\n",
       "    <tr>\n",
       "      <th>1</th>\n",
       "      <td>160011569</td>\n",
       "      <td>2016-01-01</td>\n",
       "      <td>LARCENY-NON VEHICLE</td>\n",
       "      <td>2016.0</td>\n",
       "      <td>1.0</td>\n",
       "      <td>Jan</td>\n",
       "    </tr>\n",
       "    <tr>\n",
       "      <th>2</th>\n",
       "      <td>160011645</td>\n",
       "      <td>2016-01-01</td>\n",
       "      <td>LARCENY-NON VEHICLE</td>\n",
       "      <td>2016.0</td>\n",
       "      <td>1.0</td>\n",
       "      <td>Jan</td>\n",
       "    </tr>\n",
       "    <tr>\n",
       "      <th>3</th>\n",
       "      <td>160011823</td>\n",
       "      <td>2016-01-01</td>\n",
       "      <td>LARCENY-NON VEHICLE</td>\n",
       "      <td>2016.0</td>\n",
       "      <td>1.0</td>\n",
       "      <td>Jan</td>\n",
       "    </tr>\n",
       "    <tr>\n",
       "      <th>4</th>\n",
       "      <td>160011975</td>\n",
       "      <td>2016-01-01</td>\n",
       "      <td>LARCENY-NON VEHICLE</td>\n",
       "      <td>2016.0</td>\n",
       "      <td>1.0</td>\n",
       "      <td>Jan</td>\n",
       "    </tr>\n",
       "    <tr>\n",
       "      <th>...</th>\n",
       "      <td>...</td>\n",
       "      <td>...</td>\n",
       "      <td>...</td>\n",
       "      <td>...</td>\n",
       "      <td>...</td>\n",
       "      <td>...</td>\n",
       "    </tr>\n",
       "    <tr>\n",
       "      <th>18765</th>\n",
       "      <td>213220373</td>\n",
       "      <td>2021-11-17</td>\n",
       "      <td>LARCENY-FROM VEHICLE</td>\n",
       "      <td>2021.0</td>\n",
       "      <td>11.0</td>\n",
       "      <td>Nov</td>\n",
       "    </tr>\n",
       "    <tr>\n",
       "      <th>18766</th>\n",
       "      <td>213220021</td>\n",
       "      <td>2021-11-18</td>\n",
       "      <td>LARCENY-FROM VEHICLE</td>\n",
       "      <td>2021.0</td>\n",
       "      <td>11.0</td>\n",
       "      <td>Nov</td>\n",
       "    </tr>\n",
       "    <tr>\n",
       "      <th>18767</th>\n",
       "      <td>213220048</td>\n",
       "      <td>2021-11-18</td>\n",
       "      <td>LARCENY-FROM VEHICLE</td>\n",
       "      <td>2021.0</td>\n",
       "      <td>11.0</td>\n",
       "      <td>Nov</td>\n",
       "    </tr>\n",
       "    <tr>\n",
       "      <th>18768</th>\n",
       "      <td>213220150</td>\n",
       "      <td>2021-11-18</td>\n",
       "      <td>LARCENY-NON VEHICLE</td>\n",
       "      <td>2021.0</td>\n",
       "      <td>11.0</td>\n",
       "      <td>Nov</td>\n",
       "    </tr>\n",
       "    <tr>\n",
       "      <th>18769</th>\n",
       "      <td>213220415</td>\n",
       "      <td>2021-11-18</td>\n",
       "      <td>LARCENY-NON VEHICLE</td>\n",
       "      <td>2021.0</td>\n",
       "      <td>11.0</td>\n",
       "      <td>Nov</td>\n",
       "    </tr>\n",
       "  </tbody>\n",
       "</table>\n",
       "<p>146684 rows × 6 columns</p>\n",
       "</div>"
      ],
      "text/plain": [
       "       Report Number Occur Date           UCR Literal    Year  Month  MMM\n",
       "0          160011550 2016-01-01   LARCENY-NON VEHICLE  2016.0    1.0  Jan\n",
       "1          160011569 2016-01-01   LARCENY-NON VEHICLE  2016.0    1.0  Jan\n",
       "2          160011645 2016-01-01   LARCENY-NON VEHICLE  2016.0    1.0  Jan\n",
       "3          160011823 2016-01-01   LARCENY-NON VEHICLE  2016.0    1.0  Jan\n",
       "4          160011975 2016-01-01   LARCENY-NON VEHICLE  2016.0    1.0  Jan\n",
       "...              ...        ...                   ...     ...    ...  ...\n",
       "18765      213220373 2021-11-17  LARCENY-FROM VEHICLE  2021.0   11.0  Nov\n",
       "18766      213220021 2021-11-18  LARCENY-FROM VEHICLE  2021.0   11.0  Nov\n",
       "18767      213220048 2021-11-18  LARCENY-FROM VEHICLE  2021.0   11.0  Nov\n",
       "18768      213220150 2021-11-18   LARCENY-NON VEHICLE  2021.0   11.0  Nov\n",
       "18769      213220415 2021-11-18   LARCENY-NON VEHICLE  2021.0   11.0  Nov\n",
       "\n",
       "[146684 rows x 6 columns]"
      ]
     },
     "execution_count": 25,
     "metadata": {},
     "output_type": "execute_result"
    }
   ],
   "source": [
    "col_mmm(crimes_df, 'MMM')"
   ]
  },
  {
   "cell_type": "code",
   "execution_count": 26,
   "id": "88e304e4",
   "metadata": {},
   "outputs": [],
   "source": [
    "def list_col(df, col):\n",
    "    return sorted(df[col].unique())"
   ]
  },
  {
   "cell_type": "code",
   "execution_count": 27,
   "id": "28cb2323",
   "metadata": {
    "scrolled": true
   },
   "outputs": [
    {
     "data": {
      "text/plain": [
       "['AGG ASSAULT',\n",
       " 'AUTO THEFT',\n",
       " 'BURGLARY',\n",
       " 'BURGLARY-NONRES',\n",
       " 'BURGLARY-RESIDENCE',\n",
       " 'HOMICIDE',\n",
       " 'LARCENY-FROM VEHICLE',\n",
       " 'LARCENY-NON VEHICLE',\n",
       " 'MANSLAUGHTER',\n",
       " 'ROBBERY',\n",
       " 'ROBBERY-COMMERCIAL',\n",
       " 'ROBBERY-PEDESTRIAN',\n",
       " 'ROBBERY-RESIDENCE']"
      ]
     },
     "execution_count": 27,
     "metadata": {},
     "output_type": "execute_result"
    }
   ],
   "source": [
    "list_col(crimes_df, 'UCR Literal')"
   ]
  },
  {
   "cell_type": "markdown",
   "id": "7aef1d6f",
   "metadata": {},
   "source": [
    "#Creating New crime categories column"
   ]
  },
  {
   "cell_type": "code",
   "execution_count": 28,
   "id": "95520f3e",
   "metadata": {},
   "outputs": [],
   "source": [
    "new_type_name = [\n",
    "'LARCENY_FROM_VEHICLE',\n",
    "'LARCENY_NON_VEHICLE',\n",
    "'AUTO_THEFT',\n",
    "'BURGLARY',\n",
    "'AGG_ASSAULT',\n",
    "'ROBBERY',\n",
    "'HOMICIDE',\n",
    "'MANSLAUGHTER']\n",
    "\n",
    "HOMICIDE =  ['HOMICIDE']\n",
    "AGG_ASSAULT = ['AGG ASSAULT']\n",
    "MANSLAUGHTER = ['MANSLAUGHTER']\n",
    "AUTO_THEFT = ['AUTO THEFT']\n",
    "LARCENY_FROM_VEHICLE = ['LARCENY-FROM VEHICLE']\n",
    "LARCENY_NON_VEHICLE = ['LARCENY-NON VEHICLE']\n",
    "BURGLARY = ['BURGLARY-RESIDENCE', 'BURGLARY-NONRES', 'BURGLARY']\n",
    "ROBBERY = ['ROBBERY', 'ROBBERY-PEDESTRIAN', 'ROBBERY-COMMERCIAL', 'ROBBERY-RESIDENCE']\n",
    "\n",
    "new_type_cat = [\n",
    "LARCENY_FROM_VEHICLE,\n",
    "LARCENY_NON_VEHICLE,\n",
    "AUTO_THEFT,\n",
    "BURGLARY,\n",
    "AGG_ASSAULT,\n",
    "ROBBERY,\n",
    "HOMICIDE,\n",
    "MANSLAUGHTER]"
   ]
  },
  {
   "cell_type": "code",
   "execution_count": 29,
   "id": "2d6c914b",
   "metadata": {},
   "outputs": [],
   "source": [
    "def new_crime_cat(df):\n",
    "# Here is the process of re-categorize the type of crime\n",
    "    new_dic = {}\n",
    "    for old_cat, str_name in zip(new_type_cat, new_type_name):\n",
    "        for a, b in zip(old_cat, [str_name]*len(old_cat)):\n",
    "            new_dic.update([(a, b)])\n",
    "#Apply the dict to to df to create new categorial column and variable\n",
    "    new_dic\n",
    "    df['Crime Categories'] = None\n",
    "    df['Crime Categories'] = df['UCR Literal'].map(new_dic)\n",
    "    return df"
   ]
  },
  {
   "cell_type": "code",
   "execution_count": 30,
   "id": "0dc31dd7",
   "metadata": {
    "scrolled": true
   },
   "outputs": [
    {
     "name": "stderr",
     "output_type": "stream",
     "text": [
      "/tmp/ipykernel_2861/19276103.py:9: SettingWithCopyWarning: \n",
      "A value is trying to be set on a copy of a slice from a DataFrame.\n",
      "Try using .loc[row_indexer,col_indexer] = value instead\n",
      "\n",
      "See the caveats in the documentation: https://pandas.pydata.org/pandas-docs/stable/user_guide/indexing.html#returning-a-view-versus-a-copy\n",
      "  df['Crime Categories'] = None\n",
      "/tmp/ipykernel_2861/19276103.py:10: SettingWithCopyWarning: \n",
      "A value is trying to be set on a copy of a slice from a DataFrame.\n",
      "Try using .loc[row_indexer,col_indexer] = value instead\n",
      "\n",
      "See the caveats in the documentation: https://pandas.pydata.org/pandas-docs/stable/user_guide/indexing.html#returning-a-view-versus-a-copy\n",
      "  df['Crime Categories'] = df['UCR Literal'].map(new_dic)\n"
     ]
    },
    {
     "data": {
      "text/html": [
       "<div>\n",
       "<style scoped>\n",
       "    .dataframe tbody tr th:only-of-type {\n",
       "        vertical-align: middle;\n",
       "    }\n",
       "\n",
       "    .dataframe tbody tr th {\n",
       "        vertical-align: top;\n",
       "    }\n",
       "\n",
       "    .dataframe thead th {\n",
       "        text-align: right;\n",
       "    }\n",
       "</style>\n",
       "<table border=\"1\" class=\"dataframe\">\n",
       "  <thead>\n",
       "    <tr style=\"text-align: right;\">\n",
       "      <th></th>\n",
       "      <th>Report Number</th>\n",
       "      <th>Occur Date</th>\n",
       "      <th>UCR Literal</th>\n",
       "      <th>Year</th>\n",
       "      <th>Month</th>\n",
       "      <th>MMM</th>\n",
       "      <th>Crime Categories</th>\n",
       "    </tr>\n",
       "  </thead>\n",
       "  <tbody>\n",
       "    <tr>\n",
       "      <th>0</th>\n",
       "      <td>160011550</td>\n",
       "      <td>2016-01-01</td>\n",
       "      <td>LARCENY-NON VEHICLE</td>\n",
       "      <td>2016.0</td>\n",
       "      <td>1.0</td>\n",
       "      <td>Jan</td>\n",
       "      <td>LARCENY_NON_VEHICLE</td>\n",
       "    </tr>\n",
       "    <tr>\n",
       "      <th>1</th>\n",
       "      <td>160011569</td>\n",
       "      <td>2016-01-01</td>\n",
       "      <td>LARCENY-NON VEHICLE</td>\n",
       "      <td>2016.0</td>\n",
       "      <td>1.0</td>\n",
       "      <td>Jan</td>\n",
       "      <td>LARCENY_NON_VEHICLE</td>\n",
       "    </tr>\n",
       "    <tr>\n",
       "      <th>2</th>\n",
       "      <td>160011645</td>\n",
       "      <td>2016-01-01</td>\n",
       "      <td>LARCENY-NON VEHICLE</td>\n",
       "      <td>2016.0</td>\n",
       "      <td>1.0</td>\n",
       "      <td>Jan</td>\n",
       "      <td>LARCENY_NON_VEHICLE</td>\n",
       "    </tr>\n",
       "    <tr>\n",
       "      <th>3</th>\n",
       "      <td>160011823</td>\n",
       "      <td>2016-01-01</td>\n",
       "      <td>LARCENY-NON VEHICLE</td>\n",
       "      <td>2016.0</td>\n",
       "      <td>1.0</td>\n",
       "      <td>Jan</td>\n",
       "      <td>LARCENY_NON_VEHICLE</td>\n",
       "    </tr>\n",
       "    <tr>\n",
       "      <th>4</th>\n",
       "      <td>160011975</td>\n",
       "      <td>2016-01-01</td>\n",
       "      <td>LARCENY-NON VEHICLE</td>\n",
       "      <td>2016.0</td>\n",
       "      <td>1.0</td>\n",
       "      <td>Jan</td>\n",
       "      <td>LARCENY_NON_VEHICLE</td>\n",
       "    </tr>\n",
       "    <tr>\n",
       "      <th>...</th>\n",
       "      <td>...</td>\n",
       "      <td>...</td>\n",
       "      <td>...</td>\n",
       "      <td>...</td>\n",
       "      <td>...</td>\n",
       "      <td>...</td>\n",
       "      <td>...</td>\n",
       "    </tr>\n",
       "    <tr>\n",
       "      <th>18765</th>\n",
       "      <td>213220373</td>\n",
       "      <td>2021-11-17</td>\n",
       "      <td>LARCENY-FROM VEHICLE</td>\n",
       "      <td>2021.0</td>\n",
       "      <td>11.0</td>\n",
       "      <td>Nov</td>\n",
       "      <td>LARCENY_FROM_VEHICLE</td>\n",
       "    </tr>\n",
       "    <tr>\n",
       "      <th>18766</th>\n",
       "      <td>213220021</td>\n",
       "      <td>2021-11-18</td>\n",
       "      <td>LARCENY-FROM VEHICLE</td>\n",
       "      <td>2021.0</td>\n",
       "      <td>11.0</td>\n",
       "      <td>Nov</td>\n",
       "      <td>LARCENY_FROM_VEHICLE</td>\n",
       "    </tr>\n",
       "    <tr>\n",
       "      <th>18767</th>\n",
       "      <td>213220048</td>\n",
       "      <td>2021-11-18</td>\n",
       "      <td>LARCENY-FROM VEHICLE</td>\n",
       "      <td>2021.0</td>\n",
       "      <td>11.0</td>\n",
       "      <td>Nov</td>\n",
       "      <td>LARCENY_FROM_VEHICLE</td>\n",
       "    </tr>\n",
       "    <tr>\n",
       "      <th>18768</th>\n",
       "      <td>213220150</td>\n",
       "      <td>2021-11-18</td>\n",
       "      <td>LARCENY-NON VEHICLE</td>\n",
       "      <td>2021.0</td>\n",
       "      <td>11.0</td>\n",
       "      <td>Nov</td>\n",
       "      <td>LARCENY_NON_VEHICLE</td>\n",
       "    </tr>\n",
       "    <tr>\n",
       "      <th>18769</th>\n",
       "      <td>213220415</td>\n",
       "      <td>2021-11-18</td>\n",
       "      <td>LARCENY-NON VEHICLE</td>\n",
       "      <td>2021.0</td>\n",
       "      <td>11.0</td>\n",
       "      <td>Nov</td>\n",
       "      <td>LARCENY_NON_VEHICLE</td>\n",
       "    </tr>\n",
       "  </tbody>\n",
       "</table>\n",
       "<p>146684 rows × 7 columns</p>\n",
       "</div>"
      ],
      "text/plain": [
       "       Report Number Occur Date           UCR Literal    Year  Month  MMM  \\\n",
       "0          160011550 2016-01-01   LARCENY-NON VEHICLE  2016.0    1.0  Jan   \n",
       "1          160011569 2016-01-01   LARCENY-NON VEHICLE  2016.0    1.0  Jan   \n",
       "2          160011645 2016-01-01   LARCENY-NON VEHICLE  2016.0    1.0  Jan   \n",
       "3          160011823 2016-01-01   LARCENY-NON VEHICLE  2016.0    1.0  Jan   \n",
       "4          160011975 2016-01-01   LARCENY-NON VEHICLE  2016.0    1.0  Jan   \n",
       "...              ...        ...                   ...     ...    ...  ...   \n",
       "18765      213220373 2021-11-17  LARCENY-FROM VEHICLE  2021.0   11.0  Nov   \n",
       "18766      213220021 2021-11-18  LARCENY-FROM VEHICLE  2021.0   11.0  Nov   \n",
       "18767      213220048 2021-11-18  LARCENY-FROM VEHICLE  2021.0   11.0  Nov   \n",
       "18768      213220150 2021-11-18   LARCENY-NON VEHICLE  2021.0   11.0  Nov   \n",
       "18769      213220415 2021-11-18   LARCENY-NON VEHICLE  2021.0   11.0  Nov   \n",
       "\n",
       "           Crime Categories  \n",
       "0       LARCENY_NON_VEHICLE  \n",
       "1       LARCENY_NON_VEHICLE  \n",
       "2       LARCENY_NON_VEHICLE  \n",
       "3       LARCENY_NON_VEHICLE  \n",
       "4       LARCENY_NON_VEHICLE  \n",
       "...                     ...  \n",
       "18765  LARCENY_FROM_VEHICLE  \n",
       "18766  LARCENY_FROM_VEHICLE  \n",
       "18767  LARCENY_FROM_VEHICLE  \n",
       "18768   LARCENY_NON_VEHICLE  \n",
       "18769   LARCENY_NON_VEHICLE  \n",
       "\n",
       "[146684 rows x 7 columns]"
      ]
     },
     "execution_count": 30,
     "metadata": {},
     "output_type": "execute_result"
    }
   ],
   "source": [
    "new_crime_cat(crimes_df)"
   ]
  },
  {
   "cell_type": "code",
   "execution_count": null,
   "id": "21030ca4",
   "metadata": {},
   "outputs": [],
   "source": [
    "crimes_df"
   ]
  },
  {
   "cell_type": "code",
   "execution_count": null,
   "id": "bb0f3dc3",
   "metadata": {},
   "outputs": [],
   "source": [
    "#Select date range with date format as 'yyyy-mm-dd'\n",
    "def range_df(df, start_date, end_date):\n",
    "    mask = (df['Occur Date'] >= start_date) & (df['Occur Date'] < end_date)\n",
    "    return df.loc[mask]"
   ]
  },
  {
   "cell_type": "code",
   "execution_count": null,
   "id": "cd4c3a02",
   "metadata": {},
   "outputs": [],
   "source": [
    "crimes_2016_2019_df = range_df(crimes_df, '2016-01-01', '2020-01-01')"
   ]
  },
  {
   "cell_type": "code",
   "execution_count": null,
   "id": "a0840458",
   "metadata": {},
   "outputs": [],
   "source": [
    "crimes_2016_2019_df.tail()"
   ]
  },
  {
   "cell_type": "code",
   "execution_count": null,
   "id": "bda86ac3",
   "metadata": {},
   "outputs": [],
   "source": [
    "crimes_2016_2020_df = range_df(crimes_df, '2016-01-01', '2021-01-01')"
   ]
  },
  {
   "cell_type": "code",
   "execution_count": null,
   "id": "883fa644",
   "metadata": {},
   "outputs": [],
   "source": [
    "#Select \"Year\" range starting at year\n",
    "crimes_2016_2019_df = crimes_df[crimes_df['Year'] < 2020]"
   ]
  },
  {
   "cell_type": "code",
   "execution_count": null,
   "id": "ff8eb2e4",
   "metadata": {},
   "outputs": [],
   "source": [
    "#Select \"Year\" range starting at year\n",
    "crimes_2019_df = crimes_df[crimes_df['Year'] == 2019]"
   ]
  },
  {
   "cell_type": "code",
   "execution_count": 31,
   "id": "ad358daf",
   "metadata": {},
   "outputs": [],
   "source": [
    "#Select \"Year\" range starting at year\n",
    "crimes_2020_df = crimes_df[crimes_df['Year'] == 2020]"
   ]
  },
  {
   "cell_type": "code",
   "execution_count": null,
   "id": "9fbf777a",
   "metadata": {},
   "outputs": [],
   "source": [
    "crimes_2021_df = crimes_df[crimes_df['Year'] == 2021]"
   ]
  },
  {
   "cell_type": "markdown",
   "id": "3d7dce7c",
   "metadata": {},
   "source": [
    "Total Number of Crime per Year"
   ]
  },
  {
   "cell_type": "code",
   "execution_count": 39,
   "id": "8015b6e1",
   "metadata": {},
   "outputs": [],
   "source": [
    "crimes_2016_2020_df= crimes_df[crimes_df['Occur Date'] < '2021-01-01']"
   ]
  },
  {
   "cell_type": "code",
   "execution_count": 44,
   "id": "e512995e",
   "metadata": {},
   "outputs": [],
   "source": [
    "#Bar Plot of Total Crimes Per \"Year\"\n",
    "def plot_bar_total_crimes_year(df, col):\n",
    "    fig, ax = plt.subplots(figsize=[7,6])\n",
    "    ax = sns.barplot(x=df[col].value_counts().index.tolist(), y=df[col].value_counts().values)\n",
    "    plt.title('Total Crimes in Atlanta Per Year (2016-2020)', fontsize = 20)\n",
    "    plt.ylabel('Number of Crimes', fontsize = 15)\n",
    "    plt.xlabel(col, fontsize = 15)\n",
    "    plt.xticks(fontsize = 13)\n",
    "    plt.yticks(fontsize = 13)\n",
    "    plt.bar_label(ax.containers[0],size=13)\n",
    "    fig.tight_layout()\n",
    "    #plt.savefig('images/Total Crimes in Atlanta Per Year (2016-2020)', dpi=100)"
   ]
  },
  {
   "cell_type": "code",
   "execution_count": 45,
   "id": "132062e7",
   "metadata": {},
   "outputs": [
    {
     "data": {
      "image/png": "[encoded data removed]",
      "text/plain": [
       "<Figure size 504x432 with 1 Axes>"
      ]
     },
     "metadata": {
      "needs_background": "light"
     },
     "output_type": "display_data"
    }
   ],
   "source": [
    "plot_bar_total_crimes_year(crimes_2016_2020_df, \"Year\")"
   ]
  },
  {
   "cell_type": "code",
   "execution_count": null,
   "id": "d99536a6",
   "metadata": {},
   "outputs": [],
   "source": [
    "#Bar Plot of Crime categories\n",
    "def plot_bar_crimes_cat_year(df):\n",
    "    fig, ax = plt.subplots(figsize=[8.5, 6])\n",
    "    ax = sns.countplot(y = df['Crime Categories'], data = df, order = df['Crime Categories'].value_counts().index)\n",
    "    plt.title('Crimes in Atlanta (2020)', fontsize = 20)\n",
    "    plt.xlabel('Number of Crimes', fontsize = 15)\n",
    "    plt.ylabel('Crime Categories', fontsize = 15)\n",
    "    plt.xticks(fontsize = 9)\n",
    "    plt.yticks(fontsize = 9)\n",
    "    plt.bar_label(ax.containers[0],size=8)\n",
    "    #plt.savefig('images/Crimes in Atlanta (2020)', dpi=100, bbox_inches = \"tight\")"
   ]
  },
  {
   "cell_type": "code",
   "execution_count": null,
   "id": "d069ccc9",
   "metadata": {},
   "outputs": [],
   "source": [
    "plot_bar_crimes_cat_year(crimes_2019_df)"
   ]
  },
  {
   "cell_type": "code",
   "execution_count": null,
   "id": "ea7e11b5",
   "metadata": {
    "scrolled": false
   },
   "outputs": [],
   "source": [
    "#Count Plot of Total Crimes in each Month\n",
    "def plot_count_total_crimes_monthly(df):\n",
    "    fig, ax = plt.subplots(figsize=[8, 6])\n",
    "    ax = sns.countplot(x=df['MMM'])\n",
    "    plt.title(input('Input Chart Title: '), fontsize = 20)\n",
    "    plt.ylabel('Number of Crimes', fontsize = 15)\n",
    "    plt.xlabel('Month', fontsize = 15)\n",
    "    plt.xticks(fontsize = 13)\n",
    "    plt.yticks(fontsize = 13)\n",
    "    plt.bar_label(ax.containers[0],size=13)\n",
    "    fig.tight_layout()\n",
    "    #plt.savefig('images/Crimes in each Month', dpi=100)"
   ]
  },
  {
   "cell_type": "code",
   "execution_count": null,
   "id": "98781886",
   "metadata": {},
   "outputs": [],
   "source": [
    "plot_count_total_crimes_monthly(crimes_2019_df)"
   ]
  },
  {
   "cell_type": "code",
   "execution_count": 53,
   "id": "fadb316a",
   "metadata": {
    "scrolled": true
   },
   "outputs": [
    {
     "data": {
      "text/html": [
       "<div>\n",
       "<style scoped>\n",
       "    .dataframe tbody tr th:only-of-type {\n",
       "        vertical-align: middle;\n",
       "    }\n",
       "\n",
       "    .dataframe tbody tr th {\n",
       "        vertical-align: top;\n",
       "    }\n",
       "\n",
       "    .dataframe thead th {\n",
       "        text-align: right;\n",
       "    }\n",
       "</style>\n",
       "<table border=\"1\" class=\"dataframe\">\n",
       "  <thead>\n",
       "    <tr style=\"text-align: right;\">\n",
       "      <th></th>\n",
       "      <th>Occur Date</th>\n",
       "      <th>Total Daily Report</th>\n",
       "    </tr>\n",
       "  </thead>\n",
       "  <tbody>\n",
       "    <tr>\n",
       "      <th>0</th>\n",
       "      <td>2016-01-01</td>\n",
       "      <td>81</td>\n",
       "    </tr>\n",
       "    <tr>\n",
       "      <th>1</th>\n",
       "      <td>2016-01-02</td>\n",
       "      <td>82</td>\n",
       "    </tr>\n",
       "    <tr>\n",
       "      <th>2</th>\n",
       "      <td>2016-01-03</td>\n",
       "      <td>69</td>\n",
       "    </tr>\n",
       "    <tr>\n",
       "      <th>3</th>\n",
       "      <td>2016-01-04</td>\n",
       "      <td>71</td>\n",
       "    </tr>\n",
       "    <tr>\n",
       "      <th>4</th>\n",
       "      <td>2016-01-05</td>\n",
       "      <td>72</td>\n",
       "    </tr>\n",
       "    <tr>\n",
       "      <th>...</th>\n",
       "      <td>...</td>\n",
       "      <td>...</td>\n",
       "    </tr>\n",
       "    <tr>\n",
       "      <th>2144</th>\n",
       "      <td>2021-11-14</td>\n",
       "      <td>54</td>\n",
       "    </tr>\n",
       "    <tr>\n",
       "      <th>2145</th>\n",
       "      <td>2021-11-15</td>\n",
       "      <td>56</td>\n",
       "    </tr>\n",
       "    <tr>\n",
       "      <th>2146</th>\n",
       "      <td>2021-11-16</td>\n",
       "      <td>49</td>\n",
       "    </tr>\n",
       "    <tr>\n",
       "      <th>2147</th>\n",
       "      <td>2021-11-17</td>\n",
       "      <td>47</td>\n",
       "    </tr>\n",
       "    <tr>\n",
       "      <th>2148</th>\n",
       "      <td>2021-11-18</td>\n",
       "      <td>4</td>\n",
       "    </tr>\n",
       "  </tbody>\n",
       "</table>\n",
       "<p>2149 rows × 2 columns</p>\n",
       "</div>"
      ],
      "text/plain": [
       "     Occur Date  Total Daily Report\n",
       "0    2016-01-01                  81\n",
       "1    2016-01-02                  82\n",
       "2    2016-01-03                  69\n",
       "3    2016-01-04                  71\n",
       "4    2016-01-05                  72\n",
       "...         ...                 ...\n",
       "2144 2021-11-14                  54\n",
       "2145 2021-11-15                  56\n",
       "2146 2021-11-16                  49\n",
       "2147 2021-11-17                  47\n",
       "2148 2021-11-18                   4\n",
       "\n",
       "[2149 rows x 2 columns]"
      ]
     },
     "execution_count": 53,
     "metadata": {},
     "output_type": "execute_result"
    }
   ],
   "source": [
    "crimes_df.groupby(['Occur Date'])['UCR Literal'].count().reset_index(name=\"Total Daily Report\")"
   ]
  },
  {
   "cell_type": "code",
   "execution_count": 56,
   "id": "c2a4f4b3",
   "metadata": {},
   "outputs": [
    {
     "data": {
      "text/html": [
       "<div>\n",
       "<style scoped>\n",
       "    .dataframe tbody tr th:only-of-type {\n",
       "        vertical-align: middle;\n",
       "    }\n",
       "\n",
       "    .dataframe tbody tr th {\n",
       "        vertical-align: top;\n",
       "    }\n",
       "\n",
       "    .dataframe thead th {\n",
       "        text-align: right;\n",
       "    }\n",
       "</style>\n",
       "<table border=\"1\" class=\"dataframe\">\n",
       "  <thead>\n",
       "    <tr style=\"text-align: right;\">\n",
       "      <th></th>\n",
       "      <th>Report Number</th>\n",
       "      <th>Occur Date</th>\n",
       "      <th>UCR Literal</th>\n",
       "      <th>Year</th>\n",
       "      <th>Month</th>\n",
       "      <th>MMM</th>\n",
       "      <th>Crime Categories</th>\n",
       "    </tr>\n",
       "  </thead>\n",
       "  <tbody>\n",
       "    <tr>\n",
       "      <th>0</th>\n",
       "      <td>160011550</td>\n",
       "      <td>2016-01-01</td>\n",
       "      <td>LARCENY-NON VEHICLE</td>\n",
       "      <td>2016.0</td>\n",
       "      <td>1.0</td>\n",
       "      <td>Jan</td>\n",
       "      <td>LARCENY_NON_VEHICLE</td>\n",
       "    </tr>\n",
       "    <tr>\n",
       "      <th>1</th>\n",
       "      <td>160011569</td>\n",
       "      <td>2016-01-01</td>\n",
       "      <td>LARCENY-NON VEHICLE</td>\n",
       "      <td>2016.0</td>\n",
       "      <td>1.0</td>\n",
       "      <td>Jan</td>\n",
       "      <td>LARCENY_NON_VEHICLE</td>\n",
       "    </tr>\n",
       "    <tr>\n",
       "      <th>2</th>\n",
       "      <td>160011645</td>\n",
       "      <td>2016-01-01</td>\n",
       "      <td>LARCENY-NON VEHICLE</td>\n",
       "      <td>2016.0</td>\n",
       "      <td>1.0</td>\n",
       "      <td>Jan</td>\n",
       "      <td>LARCENY_NON_VEHICLE</td>\n",
       "    </tr>\n",
       "    <tr>\n",
       "      <th>3</th>\n",
       "      <td>160011823</td>\n",
       "      <td>2016-01-01</td>\n",
       "      <td>LARCENY-NON VEHICLE</td>\n",
       "      <td>2016.0</td>\n",
       "      <td>1.0</td>\n",
       "      <td>Jan</td>\n",
       "      <td>LARCENY_NON_VEHICLE</td>\n",
       "    </tr>\n",
       "    <tr>\n",
       "      <th>4</th>\n",
       "      <td>160011975</td>\n",
       "      <td>2016-01-01</td>\n",
       "      <td>LARCENY-NON VEHICLE</td>\n",
       "      <td>2016.0</td>\n",
       "      <td>1.0</td>\n",
       "      <td>Jan</td>\n",
       "      <td>LARCENY_NON_VEHICLE</td>\n",
       "    </tr>\n",
       "    <tr>\n",
       "      <th>...</th>\n",
       "      <td>...</td>\n",
       "      <td>...</td>\n",
       "      <td>...</td>\n",
       "      <td>...</td>\n",
       "      <td>...</td>\n",
       "      <td>...</td>\n",
       "      <td>...</td>\n",
       "    </tr>\n",
       "    <tr>\n",
       "      <th>18765</th>\n",
       "      <td>213220373</td>\n",
       "      <td>2021-11-17</td>\n",
       "      <td>LARCENY-FROM VEHICLE</td>\n",
       "      <td>2021.0</td>\n",
       "      <td>11.0</td>\n",
       "      <td>Nov</td>\n",
       "      <td>LARCENY_FROM_VEHICLE</td>\n",
       "    </tr>\n",
       "    <tr>\n",
       "      <th>18766</th>\n",
       "      <td>213220021</td>\n",
       "      <td>2021-11-18</td>\n",
       "      <td>LARCENY-FROM VEHICLE</td>\n",
       "      <td>2021.0</td>\n",
       "      <td>11.0</td>\n",
       "      <td>Nov</td>\n",
       "      <td>LARCENY_FROM_VEHICLE</td>\n",
       "    </tr>\n",
       "    <tr>\n",
       "      <th>18767</th>\n",
       "      <td>213220048</td>\n",
       "      <td>2021-11-18</td>\n",
       "      <td>LARCENY-FROM VEHICLE</td>\n",
       "      <td>2021.0</td>\n",
       "      <td>11.0</td>\n",
       "      <td>Nov</td>\n",
       "      <td>LARCENY_FROM_VEHICLE</td>\n",
       "    </tr>\n",
       "    <tr>\n",
       "      <th>18768</th>\n",
       "      <td>213220150</td>\n",
       "      <td>2021-11-18</td>\n",
       "      <td>LARCENY-NON VEHICLE</td>\n",
       "      <td>2021.0</td>\n",
       "      <td>11.0</td>\n",
       "      <td>Nov</td>\n",
       "      <td>LARCENY_NON_VEHICLE</td>\n",
       "    </tr>\n",
       "    <tr>\n",
       "      <th>18769</th>\n",
       "      <td>213220415</td>\n",
       "      <td>2021-11-18</td>\n",
       "      <td>LARCENY-NON VEHICLE</td>\n",
       "      <td>2021.0</td>\n",
       "      <td>11.0</td>\n",
       "      <td>Nov</td>\n",
       "      <td>LARCENY_NON_VEHICLE</td>\n",
       "    </tr>\n",
       "  </tbody>\n",
       "</table>\n",
       "<p>146684 rows × 7 columns</p>\n",
       "</div>"
      ],
      "text/plain": [
       "       Report Number Occur Date           UCR Literal    Year  Month  MMM  \\\n",
       "0          160011550 2016-01-01   LARCENY-NON VEHICLE  2016.0    1.0  Jan   \n",
       "1          160011569 2016-01-01   LARCENY-NON VEHICLE  2016.0    1.0  Jan   \n",
       "2          160011645 2016-01-01   LARCENY-NON VEHICLE  2016.0    1.0  Jan   \n",
       "3          160011823 2016-01-01   LARCENY-NON VEHICLE  2016.0    1.0  Jan   \n",
       "4          160011975 2016-01-01   LARCENY-NON VEHICLE  2016.0    1.0  Jan   \n",
       "...              ...        ...                   ...     ...    ...  ...   \n",
       "18765      213220373 2021-11-17  LARCENY-FROM VEHICLE  2021.0   11.0  Nov   \n",
       "18766      213220021 2021-11-18  LARCENY-FROM VEHICLE  2021.0   11.0  Nov   \n",
       "18767      213220048 2021-11-18  LARCENY-FROM VEHICLE  2021.0   11.0  Nov   \n",
       "18768      213220150 2021-11-18   LARCENY-NON VEHICLE  2021.0   11.0  Nov   \n",
       "18769      213220415 2021-11-18   LARCENY-NON VEHICLE  2021.0   11.0  Nov   \n",
       "\n",
       "           Crime Categories  \n",
       "0       LARCENY_NON_VEHICLE  \n",
       "1       LARCENY_NON_VEHICLE  \n",
       "2       LARCENY_NON_VEHICLE  \n",
       "3       LARCENY_NON_VEHICLE  \n",
       "4       LARCENY_NON_VEHICLE  \n",
       "...                     ...  \n",
       "18765  LARCENY_FROM_VEHICLE  \n",
       "18766  LARCENY_FROM_VEHICLE  \n",
       "18767  LARCENY_FROM_VEHICLE  \n",
       "18768   LARCENY_NON_VEHICLE  \n",
       "18769   LARCENY_NON_VEHICLE  \n",
       "\n",
       "[146684 rows x 7 columns]"
      ]
     },
     "execution_count": 56,
     "metadata": {},
     "output_type": "execute_result"
    }
   ],
   "source": [
    "crimes_df"
   ]
  },
  {
   "cell_type": "code",
   "execution_count": 80,
   "id": "7bf51e69",
   "metadata": {},
   "outputs": [],
   "source": [
    "def total_crime_daily(df,date_col,cat_col,new_col):\n",
    "    df = df.groupby([date_col])[cat_col].count().reset_index(name=new_col)\n",
    "    return df"
   ]
  },
  {
   "cell_type": "code",
   "execution_count": 83,
   "id": "1ecc37fe",
   "metadata": {
    "scrolled": true
   },
   "outputs": [],
   "source": [
    "new_df = total_crime_daily(crimes_df,\"Occur Date\", \"Crime Categories\", \"Total\")"
   ]
  },
  {
   "cell_type": "code",
   "execution_count": 84,
   "id": "65752ac6",
   "metadata": {},
   "outputs": [
    {
     "data": {
      "text/html": [
       "<div>\n",
       "<style scoped>\n",
       "    .dataframe tbody tr th:only-of-type {\n",
       "        vertical-align: middle;\n",
       "    }\n",
       "\n",
       "    .dataframe tbody tr th {\n",
       "        vertical-align: top;\n",
       "    }\n",
       "\n",
       "    .dataframe thead th {\n",
       "        text-align: right;\n",
       "    }\n",
       "</style>\n",
       "<table border=\"1\" class=\"dataframe\">\n",
       "  <thead>\n",
       "    <tr style=\"text-align: right;\">\n",
       "      <th></th>\n",
       "      <th>Occur Date</th>\n",
       "      <th>Total</th>\n",
       "    </tr>\n",
       "  </thead>\n",
       "  <tbody>\n",
       "    <tr>\n",
       "      <th>0</th>\n",
       "      <td>2016-01-01</td>\n",
       "      <td>81</td>\n",
       "    </tr>\n",
       "    <tr>\n",
       "      <th>1</th>\n",
       "      <td>2016-01-02</td>\n",
       "      <td>82</td>\n",
       "    </tr>\n",
       "    <tr>\n",
       "      <th>2</th>\n",
       "      <td>2016-01-03</td>\n",
       "      <td>69</td>\n",
       "    </tr>\n",
       "    <tr>\n",
       "      <th>3</th>\n",
       "      <td>2016-01-04</td>\n",
       "      <td>71</td>\n",
       "    </tr>\n",
       "    <tr>\n",
       "      <th>4</th>\n",
       "      <td>2016-01-05</td>\n",
       "      <td>72</td>\n",
       "    </tr>\n",
       "  </tbody>\n",
       "</table>\n",
       "</div>"
      ],
      "text/plain": [
       "  Occur Date  Total\n",
       "0 2016-01-01     81\n",
       "1 2016-01-02     82\n",
       "2 2016-01-03     69\n",
       "3 2016-01-04     71\n",
       "4 2016-01-05     72"
      ]
     },
     "execution_count": 84,
     "metadata": {},
     "output_type": "execute_result"
    }
   ],
   "source": [
    "new_df.head()"
   ]
  },
  {
   "cell_type": "code",
   "execution_count": 34,
   "id": "95756588",
   "metadata": {},
   "outputs": [],
   "source": [
    "total_daily_report_df = crimes_2020_df.groupby('Occur Date')[\"Report Number\"].count().reset_index(name=\"Total Daily Report\")"
   ]
  },
  {
   "cell_type": "code",
   "execution_count": 35,
   "id": "388f6976",
   "metadata": {},
   "outputs": [
    {
     "data": {
      "text/html": [
       "<div>\n",
       "<style scoped>\n",
       "    .dataframe tbody tr th:only-of-type {\n",
       "        vertical-align: middle;\n",
       "    }\n",
       "\n",
       "    .dataframe tbody tr th {\n",
       "        vertical-align: top;\n",
       "    }\n",
       "\n",
       "    .dataframe thead th {\n",
       "        text-align: right;\n",
       "    }\n",
       "</style>\n",
       "<table border=\"1\" class=\"dataframe\">\n",
       "  <thead>\n",
       "    <tr style=\"text-align: right;\">\n",
       "      <th></th>\n",
       "      <th>Occur Date</th>\n",
       "      <th>Total Daily Report</th>\n",
       "    </tr>\n",
       "  </thead>\n",
       "  <tbody>\n",
       "    <tr>\n",
       "      <th>0</th>\n",
       "      <td>2020-01-01</td>\n",
       "      <td>74</td>\n",
       "    </tr>\n",
       "    <tr>\n",
       "      <th>1</th>\n",
       "      <td>2020-01-02</td>\n",
       "      <td>49</td>\n",
       "    </tr>\n",
       "    <tr>\n",
       "      <th>2</th>\n",
       "      <td>2020-01-03</td>\n",
       "      <td>83</td>\n",
       "    </tr>\n",
       "    <tr>\n",
       "      <th>3</th>\n",
       "      <td>2020-01-04</td>\n",
       "      <td>75</td>\n",
       "    </tr>\n",
       "    <tr>\n",
       "      <th>4</th>\n",
       "      <td>2020-01-05</td>\n",
       "      <td>57</td>\n",
       "    </tr>\n",
       "  </tbody>\n",
       "</table>\n",
       "</div>"
      ],
      "text/plain": [
       "  Occur Date  Total Daily Report\n",
       "0 2020-01-01                  74\n",
       "1 2020-01-02                  49\n",
       "2 2020-01-03                  83\n",
       "3 2020-01-04                  75\n",
       "4 2020-01-05                  57"
      ]
     },
     "execution_count": 35,
     "metadata": {},
     "output_type": "execute_result"
    }
   ],
   "source": [
    "total_daily_report_df.head()"
   ]
  },
  {
   "cell_type": "code",
   "execution_count": 89,
   "id": "de3f6ee0",
   "metadata": {},
   "outputs": [],
   "source": [
    "#Get rolling mean\n",
    "def rolling_avg(df,col1,col2,num):\n",
    "    df[col1] = df[col2].rolling(num).mean()\n",
    "    return df"
   ]
  },
  {
   "cell_type": "code",
   "execution_count": 91,
   "id": "c436669a",
   "metadata": {
    "scrolled": true
   },
   "outputs": [
    {
     "data": {
      "text/html": [
       "<div>\n",
       "<style scoped>\n",
       "    .dataframe tbody tr th:only-of-type {\n",
       "        vertical-align: middle;\n",
       "    }\n",
       "\n",
       "    .dataframe tbody tr th {\n",
       "        vertical-align: top;\n",
       "    }\n",
       "\n",
       "    .dataframe thead th {\n",
       "        text-align: right;\n",
       "    }\n",
       "</style>\n",
       "<table border=\"1\" class=\"dataframe\">\n",
       "  <thead>\n",
       "    <tr style=\"text-align: right;\">\n",
       "      <th></th>\n",
       "      <th>Occur Date</th>\n",
       "      <th>Total</th>\n",
       "      <th>7 Day Avg</th>\n",
       "      <th>30 Day Avg</th>\n",
       "    </tr>\n",
       "  </thead>\n",
       "  <tbody>\n",
       "    <tr>\n",
       "      <th>0</th>\n",
       "      <td>2016-01-01</td>\n",
       "      <td>81</td>\n",
       "      <td>NaN</td>\n",
       "      <td>NaN</td>\n",
       "    </tr>\n",
       "    <tr>\n",
       "      <th>1</th>\n",
       "      <td>2016-01-02</td>\n",
       "      <td>82</td>\n",
       "      <td>NaN</td>\n",
       "      <td>NaN</td>\n",
       "    </tr>\n",
       "    <tr>\n",
       "      <th>2</th>\n",
       "      <td>2016-01-03</td>\n",
       "      <td>69</td>\n",
       "      <td>NaN</td>\n",
       "      <td>NaN</td>\n",
       "    </tr>\n",
       "    <tr>\n",
       "      <th>3</th>\n",
       "      <td>2016-01-04</td>\n",
       "      <td>71</td>\n",
       "      <td>NaN</td>\n",
       "      <td>NaN</td>\n",
       "    </tr>\n",
       "    <tr>\n",
       "      <th>4</th>\n",
       "      <td>2016-01-05</td>\n",
       "      <td>72</td>\n",
       "      <td>NaN</td>\n",
       "      <td>NaN</td>\n",
       "    </tr>\n",
       "    <tr>\n",
       "      <th>...</th>\n",
       "      <td>...</td>\n",
       "      <td>...</td>\n",
       "      <td>...</td>\n",
       "      <td>...</td>\n",
       "    </tr>\n",
       "    <tr>\n",
       "      <th>2144</th>\n",
       "      <td>2021-11-14</td>\n",
       "      <td>54</td>\n",
       "      <td>60.857143</td>\n",
       "      <td>64.166667</td>\n",
       "    </tr>\n",
       "    <tr>\n",
       "      <th>2145</th>\n",
       "      <td>2021-11-15</td>\n",
       "      <td>56</td>\n",
       "      <td>58.714286</td>\n",
       "      <td>63.600000</td>\n",
       "    </tr>\n",
       "    <tr>\n",
       "      <th>2146</th>\n",
       "      <td>2021-11-16</td>\n",
       "      <td>49</td>\n",
       "      <td>56.142857</td>\n",
       "      <td>63.366667</td>\n",
       "    </tr>\n",
       "    <tr>\n",
       "      <th>2147</th>\n",
       "      <td>2021-11-17</td>\n",
       "      <td>47</td>\n",
       "      <td>55.857143</td>\n",
       "      <td>62.366667</td>\n",
       "    </tr>\n",
       "    <tr>\n",
       "      <th>2148</th>\n",
       "      <td>2021-11-18</td>\n",
       "      <td>4</td>\n",
       "      <td>48.285714</td>\n",
       "      <td>60.466667</td>\n",
       "    </tr>\n",
       "  </tbody>\n",
       "</table>\n",
       "<p>2149 rows × 4 columns</p>\n",
       "</div>"
      ],
      "text/plain": [
       "     Occur Date  Total  7 Day Avg  30 Day Avg\n",
       "0    2016-01-01     81        NaN         NaN\n",
       "1    2016-01-02     82        NaN         NaN\n",
       "2    2016-01-03     69        NaN         NaN\n",
       "3    2016-01-04     71        NaN         NaN\n",
       "4    2016-01-05     72        NaN         NaN\n",
       "...         ...    ...        ...         ...\n",
       "2144 2021-11-14     54  60.857143   64.166667\n",
       "2145 2021-11-15     56  58.714286   63.600000\n",
       "2146 2021-11-16     49  56.142857   63.366667\n",
       "2147 2021-11-17     47  55.857143   62.366667\n",
       "2148 2021-11-18      4  48.285714   60.466667\n",
       "\n",
       "[2149 rows x 4 columns]"
      ]
     },
     "execution_count": 91,
     "metadata": {},
     "output_type": "execute_result"
    }
   ],
   "source": [
    "rolling_avg(new_df,\"30 Day Avg\", \"Total\", 30)"
   ]
  },
  {
   "cell_type": "code",
   "execution_count": 92,
   "id": "8dfbab18",
   "metadata": {},
   "outputs": [
    {
     "data": {
      "text/html": [
       "<div>\n",
       "<style scoped>\n",
       "    .dataframe tbody tr th:only-of-type {\n",
       "        vertical-align: middle;\n",
       "    }\n",
       "\n",
       "    .dataframe tbody tr th {\n",
       "        vertical-align: top;\n",
       "    }\n",
       "\n",
       "    .dataframe thead th {\n",
       "        text-align: right;\n",
       "    }\n",
       "</style>\n",
       "<table border=\"1\" class=\"dataframe\">\n",
       "  <thead>\n",
       "    <tr style=\"text-align: right;\">\n",
       "      <th></th>\n",
       "      <th>Occur Date</th>\n",
       "      <th>Total</th>\n",
       "      <th>7 Day Avg</th>\n",
       "      <th>30 Day Avg</th>\n",
       "    </tr>\n",
       "  </thead>\n",
       "  <tbody>\n",
       "    <tr>\n",
       "      <th>0</th>\n",
       "      <td>2016-01-01</td>\n",
       "      <td>81</td>\n",
       "      <td>NaN</td>\n",
       "      <td>NaN</td>\n",
       "    </tr>\n",
       "    <tr>\n",
       "      <th>1</th>\n",
       "      <td>2016-01-02</td>\n",
       "      <td>82</td>\n",
       "      <td>NaN</td>\n",
       "      <td>NaN</td>\n",
       "    </tr>\n",
       "    <tr>\n",
       "      <th>2</th>\n",
       "      <td>2016-01-03</td>\n",
       "      <td>69</td>\n",
       "      <td>NaN</td>\n",
       "      <td>NaN</td>\n",
       "    </tr>\n",
       "    <tr>\n",
       "      <th>3</th>\n",
       "      <td>2016-01-04</td>\n",
       "      <td>71</td>\n",
       "      <td>NaN</td>\n",
       "      <td>NaN</td>\n",
       "    </tr>\n",
       "    <tr>\n",
       "      <th>4</th>\n",
       "      <td>2016-01-05</td>\n",
       "      <td>72</td>\n",
       "      <td>NaN</td>\n",
       "      <td>NaN</td>\n",
       "    </tr>\n",
       "  </tbody>\n",
       "</table>\n",
       "</div>"
      ],
      "text/plain": [
       "  Occur Date  Total  7 Day Avg  30 Day Avg\n",
       "0 2016-01-01     81        NaN         NaN\n",
       "1 2016-01-02     82        NaN         NaN\n",
       "2 2016-01-03     69        NaN         NaN\n",
       "3 2016-01-04     71        NaN         NaN\n",
       "4 2016-01-05     72        NaN         NaN"
      ]
     },
     "execution_count": 92,
     "metadata": {},
     "output_type": "execute_result"
    }
   ],
   "source": [
    "new_df.head()"
   ]
  },
  {
   "cell_type": "code",
   "execution_count": 86,
   "id": "3a5b7bcc",
   "metadata": {},
   "outputs": [],
   "source": [
    "new_df['7 Day Avg'] = new_df['Total'].rolling(7).mean()"
   ]
  },
  {
   "cell_type": "code",
   "execution_count": 87,
   "id": "13a97492",
   "metadata": {},
   "outputs": [
    {
     "data": {
      "text/html": [
       "<div>\n",
       "<style scoped>\n",
       "    .dataframe tbody tr th:only-of-type {\n",
       "        vertical-align: middle;\n",
       "    }\n",
       "\n",
       "    .dataframe tbody tr th {\n",
       "        vertical-align: top;\n",
       "    }\n",
       "\n",
       "    .dataframe thead th {\n",
       "        text-align: right;\n",
       "    }\n",
       "</style>\n",
       "<table border=\"1\" class=\"dataframe\">\n",
       "  <thead>\n",
       "    <tr style=\"text-align: right;\">\n",
       "      <th></th>\n",
       "      <th>Occur Date</th>\n",
       "      <th>Total</th>\n",
       "      <th>7 Day Avg</th>\n",
       "    </tr>\n",
       "  </thead>\n",
       "  <tbody>\n",
       "    <tr>\n",
       "      <th>0</th>\n",
       "      <td>2016-01-01</td>\n",
       "      <td>81</td>\n",
       "      <td>NaN</td>\n",
       "    </tr>\n",
       "    <tr>\n",
       "      <th>1</th>\n",
       "      <td>2016-01-02</td>\n",
       "      <td>82</td>\n",
       "      <td>NaN</td>\n",
       "    </tr>\n",
       "    <tr>\n",
       "      <th>2</th>\n",
       "      <td>2016-01-03</td>\n",
       "      <td>69</td>\n",
       "      <td>NaN</td>\n",
       "    </tr>\n",
       "    <tr>\n",
       "      <th>3</th>\n",
       "      <td>2016-01-04</td>\n",
       "      <td>71</td>\n",
       "      <td>NaN</td>\n",
       "    </tr>\n",
       "    <tr>\n",
       "      <th>4</th>\n",
       "      <td>2016-01-05</td>\n",
       "      <td>72</td>\n",
       "      <td>NaN</td>\n",
       "    </tr>\n",
       "  </tbody>\n",
       "</table>\n",
       "</div>"
      ],
      "text/plain": [
       "  Occur Date  Total  7 Day Avg\n",
       "0 2016-01-01     81        NaN\n",
       "1 2016-01-02     82        NaN\n",
       "2 2016-01-03     69        NaN\n",
       "3 2016-01-04     71        NaN\n",
       "4 2016-01-05     72        NaN"
      ]
     },
     "execution_count": 87,
     "metadata": {},
     "output_type": "execute_result"
    }
   ],
   "source": [
    "new_df.head()"
   ]
  },
  {
   "cell_type": "code",
   "execution_count": 88,
   "id": "b81ed4e6",
   "metadata": {
    "scrolled": true
   },
   "outputs": [
    {
     "data": {
      "image/png": "[encoded data removed]",
      "text/plain": [
       "<Figure size 576x432 with 1 Axes>"
      ]
     },
     "metadata": {
      "needs_background": "light"
     },
     "output_type": "display_data"
    }
   ],
   "source": [
    "#Line Plot of Crimes in Atlanta (2020)\n",
    "fig, ax = plt.subplots(figsize = (8,6))\n",
    "sns.lineplot(x= new_df['Occur Date'], y= new_df['Total'], label=\"Daily\")\n",
    "sns.lineplot(x= new_df['Occur Date'], y= new_df['7 Day Avg'], label=\"7 Day Avg\")\n",
    "ax.set_ylabel('Number of Reported Incidents', fontsize = 15)\n",
    "ax.set_xlabel('Date', fontsize = 15)\n",
    "ax.set_title('Crimes in Atlanta (2020)', fontsize = 20)\n",
    "ax.axvline([dt.datetime(2020,5,29)], linestyle='--', color='red', lw=1)\n",
    "plt.text([dt.datetime(2020,2,15)], 110, 'COVID Lockdown (3/16-4/30)', fontsize= 8)\n",
    "plt.text([dt.datetime(2020,6,1)], 125, 'George Floyd Protest(5/29)', fontsize= 8)\n",
    "plt.xticks(fontsize = 13)\n",
    "plt.yticks(fontsize = 13)\n",
    "plt.axvspan(dt.datetime(2020,3,15), dt.datetime(2020,4,30), color='teal', alpha=0.5,\n",
    "               label='2008 Crisis')\n",
    "fig.tight_layout()\n",
    "#plt.savefig('images/Crimes in Atlanta (2020)', dpi=100)"
   ]
  },
  {
   "cell_type": "code",
   "execution_count": null,
   "id": "d90f98ac",
   "metadata": {},
   "outputs": [],
   "source": [
    "total_crime_report_df = crimes_df.groupby('Occur Date')[\"Report Number\"].count().reset_index(name=\"Total Daily Report\")"
   ]
  },
  {
   "cell_type": "code",
   "execution_count": null,
   "id": "8226186f",
   "metadata": {},
   "outputs": [],
   "source": [
    "total_crime_report_df.head()"
   ]
  },
  {
   "cell_type": "code",
   "execution_count": null,
   "id": "c1dc8b1a",
   "metadata": {},
   "outputs": [],
   "source": [
    "total_crime_report_df['30 Day Avg'] = total_crime_report_df['Total Daily Report'].rolling(30).mean()"
   ]
  },
  {
   "cell_type": "code",
   "execution_count": null,
   "id": "4486a6a3",
   "metadata": {},
   "outputs": [],
   "source": [
    "total_crime_report_df.head(15)"
   ]
  },
  {
   "cell_type": "code",
   "execution_count": 95,
   "id": "b70cb5d1",
   "metadata": {},
   "outputs": [
    {
     "data": {
      "image/png": "[encoded data removed]",
      "text/plain": [
       "<Figure size 576x432 with 1 Axes>"
      ]
     },
     "metadata": {
      "needs_background": "light"
     },
     "output_type": "display_data"
    }
   ],
   "source": [
    "fig, ax = plt.subplots(figsize = (8,6))\n",
    "sns.lineplot(x = new_df['Occur Date'], y = new_df['Total'], label=\"Daily\")\n",
    "sns.lineplot(x = new_df['Occur Date'], y = new_df['30 Day Avg'], label=\"30 Day Avg\")\n",
    "ax.set_ylabel('Number of Reported Incidents', fontsize = 15)\n",
    "ax.set_xlabel('Date', fontsize = 15)\n",
    "ax.set_title('Crimes in Atlanta (2016-2021)', fontsize = 20)\n",
    "ax.axvline([dt.datetime(2020,3,16)], linestyle='--', color='red', lw=.5)\n",
    "ax.axvline([dt.datetime(2020,5,29)], linestyle='--', color='red', lw=.5)\n",
    "plt.text([dt.datetime(2018,9,1)], 120, 'Covid Lockdown (3/16/2020)', fontsize= 8)\n",
    "plt.text([dt.datetime(2020,6,1)], 128, 'George Floyd Protest(5/29/2020)', fontsize= 8)\n",
    "plt.xticks(fontsize = 13)\n",
    "plt.yticks(fontsize = 13)\n",
    "plt.legend(loc='lower left')\n",
    "fig.tight_layout()\n",
    "#plt.savefig('images/Crimes in Atlanta (2016-2021)', dpi=100)"
   ]
  },
  {
   "cell_type": "code",
   "execution_count": null,
   "id": "b0d332e2",
   "metadata": {},
   "outputs": [],
   "source": [
    "crimes_stats_df = crimes_2016_2019_df.groupby(['Crime Categories']).count()"
   ]
  },
  {
   "cell_type": "code",
   "execution_count": null,
   "id": "e5286d5d",
   "metadata": {},
   "outputs": [],
   "source": [
    "crimes_stats_df = crimes_stats_df.sort_index(axis=0)"
   ]
  },
  {
   "cell_type": "code",
   "execution_count": null,
   "id": "b75e2a5f",
   "metadata": {
    "scrolled": true
   },
   "outputs": [],
   "source": [
    "crimes_stats_df.drop(crimes_stats_df.iloc[:, 1:], inplace = True, axis = 1)"
   ]
  },
  {
   "cell_type": "code",
   "execution_count": null,
   "id": "fec2984e",
   "metadata": {},
   "outputs": [],
   "source": [
    "crimes_stats_df.rename(columns={'Report Number': '4-year avg'}, inplace=True)"
   ]
  },
  {
   "cell_type": "code",
   "execution_count": null,
   "id": "46b69970",
   "metadata": {
    "scrolled": true
   },
   "outputs": [],
   "source": [
    "crimes_stats_df.head(15)"
   ]
  },
  {
   "cell_type": "code",
   "execution_count": null,
   "id": "9e842218",
   "metadata": {},
   "outputs": [],
   "source": [
    "crimes_stats_2020_df = crimes_2020_df.groupby(['Crime Categories']).count()"
   ]
  },
  {
   "cell_type": "code",
   "execution_count": null,
   "id": "9c596b85",
   "metadata": {},
   "outputs": [],
   "source": [
    "crimes_stats_2020_df =crimes_stats_2020_df.sort_index(axis=0)"
   ]
  },
  {
   "cell_type": "code",
   "execution_count": null,
   "id": "39e8f248",
   "metadata": {},
   "outputs": [],
   "source": [
    "crimes_stats_2020_df.drop(crimes_stats_2020_df.iloc[:, 1:], inplace = True, axis = 1)"
   ]
  },
  {
   "cell_type": "code",
   "execution_count": null,
   "id": "25940558",
   "metadata": {},
   "outputs": [],
   "source": [
    "crimes_stats_2020_df.rename(columns={'Report Number': '2020'}, inplace=True)"
   ]
  },
  {
   "cell_type": "code",
   "execution_count": null,
   "id": "73526324",
   "metadata": {},
   "outputs": [],
   "source": [
    "crimes_stats_2020_df.head(15)"
   ]
  },
  {
   "cell_type": "code",
   "execution_count": null,
   "id": "5d65d2f2",
   "metadata": {},
   "outputs": [],
   "source": [
    "crimes_stats_all_df= pd.concat([crimes_stats_df, crimes_stats_2020_df.reindex(crimes_stats_df.index)], axis=1)"
   ]
  },
  {
   "cell_type": "code",
   "execution_count": null,
   "id": "f21dee91",
   "metadata": {
    "scrolled": false
   },
   "outputs": [],
   "source": [
    "crimes_stats_all_df.head(15)"
   ]
  },
  {
   "cell_type": "code",
   "execution_count": null,
   "id": "937a7413",
   "metadata": {},
   "outputs": [],
   "source": [
    "crimes_stats_all_df['4-year avg'] = crimes_stats_all_df['4-year avg'] /4"
   ]
  },
  {
   "cell_type": "code",
   "execution_count": null,
   "id": "a3871f2f",
   "metadata": {},
   "outputs": [],
   "source": [
    "crimes_stats_all_df['diff'] = crimes_stats_all_df['2020'] - crimes_stats_all_df['4-year avg']"
   ]
  },
  {
   "cell_type": "code",
   "execution_count": null,
   "id": "ef02de75",
   "metadata": {
    "scrolled": false
   },
   "outputs": [],
   "source": [
    "crimes_stats_all_df.head(15)"
   ]
  },
  {
   "cell_type": "code",
   "execution_count": null,
   "id": "c58e31dc",
   "metadata": {},
   "outputs": [],
   "source": [
    "crimes_stats_all_df.loc['TOTAL']= crimes_stats_all_df.sum(numeric_only=True, axis=0)"
   ]
  },
  {
   "cell_type": "code",
   "execution_count": null,
   "id": "1fb3ae5b",
   "metadata": {},
   "outputs": [],
   "source": [
    "crimes_stats_all_df['%_diff'] = crimes_stats_all_df['diff'] / crimes_stats_all_df['4-year avg'] *100"
   ]
  },
  {
   "cell_type": "code",
   "execution_count": null,
   "id": "f2eeb55e",
   "metadata": {},
   "outputs": [],
   "source": [
    "crimes_stats_all_df.head(10)"
   ]
  },
  {
   "cell_type": "code",
   "execution_count": null,
   "id": "910e75f5",
   "metadata": {
    "scrolled": false
   },
   "outputs": [],
   "source": [
    "covid19_2020_df.head()"
   ]
  },
  {
   "cell_type": "code",
   "execution_count": null,
   "id": "aeb70eb7",
   "metadata": {},
   "outputs": [],
   "source": [
    "def filt_column(df, col, value):\n",
    "    df = df[df[col] == value]\n",
    "    return df"
   ]
  },
  {
   "cell_type": "code",
   "execution_count": null,
   "id": "d546c2dd",
   "metadata": {},
   "outputs": [],
   "source": [
    "filt_column(covid19_2020_df, \"county\", \"Fulton\")"
   ]
  },
  {
   "cell_type": "code",
   "execution_count": null,
   "id": "4b4e7578",
   "metadata": {},
   "outputs": [],
   "source": [
    "fulton_df.head()"
   ]
  },
  {
   "cell_type": "code",
   "execution_count": null,
   "id": "a4d53a89",
   "metadata": {},
   "outputs": [],
   "source": [
    "new_covid19_2020_df = covid19_2020_df[covid19_2020_df[\"county\"] == \"Fulton\"]"
   ]
  },
  {
   "cell_type": "code",
   "execution_count": null,
   "id": "ca795bfa",
   "metadata": {
    "scrolled": true
   },
   "outputs": [],
   "source": [
    "date_time(new_covid19_2020_df, 'report_date').head()"
   ]
  },
  {
   "cell_type": "code",
   "execution_count": null,
   "id": "9f6476c8",
   "metadata": {},
   "outputs": [],
   "source": [
    "new_covid19_2020_df = new_covid19_2020_df[new_covid19_2020_df['report_date'] < '2021-01-01']"
   ]
  },
  {
   "cell_type": "code",
   "execution_count": null,
   "id": "25580f1b",
   "metadata": {},
   "outputs": [],
   "source": [
    "#Count Plot of Total Crimes in each Month\n",
    "def plot_line_graph(df,colx,coly):\n",
    "    fig, ax = plt.subplots(figsize = (8,6))\n",
    "    ax = sns.lineplot(x = df[colx], y = df[coly])\n",
    "    ax.set_ylabel('Daily Reported Cases', fontsize = 15)\n",
    "    ax.set_xlabel('Month (2020)', fontsize = 15)\n",
    "    ax.set_title(input('Fig Title: '), fontsize = 20)\n",
    "    plt.xticks(fontsize = 11)\n",
    "    plt.yticks(fontsize = 13)\n",
    "    plt.grid()\n",
    "    fig.tight_layout()\n",
    "    plt.savefig(f{'images/input()'}, dpi=100)"
   ]
  },
  {
   "cell_type": "code",
   "execution_count": null,
   "id": "62538ed1",
   "metadata": {},
   "outputs": [],
   "source": [
    "plot_line_graph(new_covid19_2020_df, \"report_date\", \"cases\")"
   ]
  },
  {
   "cell_type": "code",
   "execution_count": null,
   "id": "b268a714",
   "metadata": {},
   "outputs": [],
   "source": [
    "new_covid19_2020_df['Month'] = new_covid19_2020_df['report_date'].dt.strftime('%b')"
   ]
  },
  {
   "cell_type": "code",
   "execution_count": null,
   "id": "3684b572",
   "metadata": {},
   "outputs": [],
   "source": [
    "def col_mmm(df, col1, col2):\n",
    "    df[col1] = df[col2].dt.strftime('%b')\n",
    "    return df"
   ]
  },
  {
   "cell_type": "code",
   "execution_count": null,
   "id": "f63d0d00",
   "metadata": {},
   "outputs": [],
   "source": [
    "col_mmm(new_covid19_2020_df, \"Month\", \"report_date\")"
   ]
  },
  {
   "cell_type": "code",
   "execution_count": null,
   "id": "a502ece3",
   "metadata": {},
   "outputs": [],
   "source": [
    "#Bar Plot of Covid Cases in each Month (2020)\n",
    "fig, ax = plt.subplots(figsize=[8, 6])\n",
    "ax = sns.barplot(x=new_covid19_2020_df['Month'], y = new_covid19_2020_df['cases'])\n",
    "ax.set_ylabel('Monthly Reported Cases', fontsize = 15)\n",
    "ax.set_xlabel('Month (2020)', fontsize = 15)\n",
    "ax.set_title('Fulton County, GA Monthly Covid-19 Cases (2020)', fontsize = 20)\n",
    "plt.xticks(fontsize = 13)\n",
    "plt.yticks(fontsize = 13)\n",
    "fig.tight_layout()\n",
    "#plt.savefig('images/Fulton County, GA Monthly Covid-19 Cases (2020)', dpi=100)"
   ]
  },
  {
   "cell_type": "code",
   "execution_count": 97,
   "id": "9f2104d9",
   "metadata": {},
   "outputs": [],
   "source": [
    "type_crimes_2020_df = crimes_2020_df.groupby([\"Month\", \"Crime Categories\"]).head()"
   ]
  },
  {
   "cell_type": "code",
   "execution_count": 98,
   "id": "aa451aa8",
   "metadata": {},
   "outputs": [
    {
     "data": {
      "text/html": [
       "<div>\n",
       "<style scoped>\n",
       "    .dataframe tbody tr th:only-of-type {\n",
       "        vertical-align: middle;\n",
       "    }\n",
       "\n",
       "    .dataframe tbody tr th {\n",
       "        vertical-align: top;\n",
       "    }\n",
       "\n",
       "    .dataframe thead th {\n",
       "        text-align: right;\n",
       "    }\n",
       "</style>\n",
       "<table border=\"1\" class=\"dataframe\">\n",
       "  <thead>\n",
       "    <tr style=\"text-align: right;\">\n",
       "      <th></th>\n",
       "      <th>Report Number</th>\n",
       "      <th>Occur Date</th>\n",
       "      <th>UCR Literal</th>\n",
       "      <th>Year</th>\n",
       "      <th>Month</th>\n",
       "      <th>MMM</th>\n",
       "      <th>Crime Categories</th>\n",
       "    </tr>\n",
       "  </thead>\n",
       "  <tbody>\n",
       "    <tr>\n",
       "      <th>4939</th>\n",
       "      <td>203361191</td>\n",
       "      <td>2020-12-01</td>\n",
       "      <td>BURGLARY</td>\n",
       "      <td>2020.0</td>\n",
       "      <td>12.0</td>\n",
       "      <td>Dec</td>\n",
       "      <td>BURGLARY</td>\n",
       "    </tr>\n",
       "    <tr>\n",
       "      <th>4944</th>\n",
       "      <td>203361374</td>\n",
       "      <td>2020-12-01</td>\n",
       "      <td>AGG ASSAULT</td>\n",
       "      <td>2020.0</td>\n",
       "      <td>12.0</td>\n",
       "      <td>Dec</td>\n",
       "      <td>AGG_ASSAULT</td>\n",
       "    </tr>\n",
       "    <tr>\n",
       "      <th>4954</th>\n",
       "      <td>203361631</td>\n",
       "      <td>2020-12-01</td>\n",
       "      <td>AGG ASSAULT</td>\n",
       "      <td>2020.0</td>\n",
       "      <td>12.0</td>\n",
       "      <td>Dec</td>\n",
       "      <td>AGG_ASSAULT</td>\n",
       "    </tr>\n",
       "    <tr>\n",
       "      <th>4959</th>\n",
       "      <td>203360107</td>\n",
       "      <td>2020-12-01</td>\n",
       "      <td>HOMICIDE</td>\n",
       "      <td>2020.0</td>\n",
       "      <td>12.0</td>\n",
       "      <td>Dec</td>\n",
       "      <td>HOMICIDE</td>\n",
       "    </tr>\n",
       "    <tr>\n",
       "      <th>4967</th>\n",
       "      <td>203360661</td>\n",
       "      <td>2020-12-01</td>\n",
       "      <td>AGG ASSAULT</td>\n",
       "      <td>2020.0</td>\n",
       "      <td>12.0</td>\n",
       "      <td>Dec</td>\n",
       "      <td>AGG_ASSAULT</td>\n",
       "    </tr>\n",
       "    <tr>\n",
       "      <th>5012</th>\n",
       "      <td>203371253</td>\n",
       "      <td>2020-12-02</td>\n",
       "      <td>ROBBERY</td>\n",
       "      <td>2020.0</td>\n",
       "      <td>12.0</td>\n",
       "      <td>Dec</td>\n",
       "      <td>ROBBERY</td>\n",
       "    </tr>\n",
       "    <tr>\n",
       "      <th>5037</th>\n",
       "      <td>203370129</td>\n",
       "      <td>2020-12-02</td>\n",
       "      <td>ROBBERY</td>\n",
       "      <td>2020.0</td>\n",
       "      <td>12.0</td>\n",
       "      <td>Dec</td>\n",
       "      <td>ROBBERY</td>\n",
       "    </tr>\n",
       "    <tr>\n",
       "      <th>5106</th>\n",
       "      <td>203381424</td>\n",
       "      <td>2020-12-03</td>\n",
       "      <td>ROBBERY</td>\n",
       "      <td>2020.0</td>\n",
       "      <td>12.0</td>\n",
       "      <td>Dec</td>\n",
       "      <td>ROBBERY</td>\n",
       "    </tr>\n",
       "    <tr>\n",
       "      <th>5110</th>\n",
       "      <td>203380074</td>\n",
       "      <td>2020-12-03</td>\n",
       "      <td>ROBBERY</td>\n",
       "      <td>2020.0</td>\n",
       "      <td>12.0</td>\n",
       "      <td>Dec</td>\n",
       "      <td>ROBBERY</td>\n",
       "    </tr>\n",
       "    <tr>\n",
       "      <th>5143</th>\n",
       "      <td>203390134</td>\n",
       "      <td>2020-12-04</td>\n",
       "      <td>HOMICIDE</td>\n",
       "      <td>2020.0</td>\n",
       "      <td>12.0</td>\n",
       "      <td>Dec</td>\n",
       "      <td>HOMICIDE</td>\n",
       "    </tr>\n",
       "  </tbody>\n",
       "</table>\n",
       "</div>"
      ],
      "text/plain": [
       "      Report Number Occur Date  UCR Literal    Year  Month  MMM  \\\n",
       "4939      203361191 2020-12-01     BURGLARY  2020.0   12.0  Dec   \n",
       "4944      203361374 2020-12-01  AGG ASSAULT  2020.0   12.0  Dec   \n",
       "4954      203361631 2020-12-01  AGG ASSAULT  2020.0   12.0  Dec   \n",
       "4959      203360107 2020-12-01     HOMICIDE  2020.0   12.0  Dec   \n",
       "4967      203360661 2020-12-01  AGG ASSAULT  2020.0   12.0  Dec   \n",
       "5012      203371253 2020-12-02      ROBBERY  2020.0   12.0  Dec   \n",
       "5037      203370129 2020-12-02      ROBBERY  2020.0   12.0  Dec   \n",
       "5106      203381424 2020-12-03      ROBBERY  2020.0   12.0  Dec   \n",
       "5110      203380074 2020-12-03      ROBBERY  2020.0   12.0  Dec   \n",
       "5143      203390134 2020-12-04     HOMICIDE  2020.0   12.0  Dec   \n",
       "\n",
       "     Crime Categories  \n",
       "4939         BURGLARY  \n",
       "4944      AGG_ASSAULT  \n",
       "4954      AGG_ASSAULT  \n",
       "4959         HOMICIDE  \n",
       "4967      AGG_ASSAULT  \n",
       "5012          ROBBERY  \n",
       "5037          ROBBERY  \n",
       "5106          ROBBERY  \n",
       "5110          ROBBERY  \n",
       "5143         HOMICIDE  "
      ]
     },
     "execution_count": 98,
     "metadata": {},
     "output_type": "execute_result"
    }
   ],
   "source": [
    "type_crimes_2020_df.tail(10)"
   ]
  },
  {
   "cell_type": "code",
   "execution_count": 99,
   "id": "d35f01eb",
   "metadata": {},
   "outputs": [],
   "source": [
    "def unique_vals(df, col):\n",
    "    return sorted(df[col].unique())"
   ]
  },
  {
   "cell_type": "code",
   "execution_count": 102,
   "id": "61ce74b9",
   "metadata": {},
   "outputs": [],
   "source": [
    "cat_crime = unique_vals(type_crimes_2020_df, \"Crime Categories\")"
   ]
  },
  {
   "cell_type": "code",
   "execution_count": 103,
   "id": "043f960e",
   "metadata": {},
   "outputs": [
    {
     "data": {
      "text/plain": [
       "['AGG_ASSAULT',\n",
       " 'AUTO_THEFT',\n",
       " 'BURGLARY',\n",
       " 'HOMICIDE',\n",
       " 'LARCENY_FROM_VEHICLE',\n",
       " 'LARCENY_NON_VEHICLE',\n",
       " 'MANSLAUGHTER',\n",
       " 'ROBBERY']"
      ]
     },
     "execution_count": 103,
     "metadata": {},
     "output_type": "execute_result"
    }
   ],
   "source": [
    "cat_crime"
   ]
  },
  {
   "cell_type": "code",
   "execution_count": 112,
   "id": "af4dba89",
   "metadata": {},
   "outputs": [
    {
     "data": {
      "text/html": [
       "<div>\n",
       "<style scoped>\n",
       "    .dataframe tbody tr th:only-of-type {\n",
       "        vertical-align: middle;\n",
       "    }\n",
       "\n",
       "    .dataframe tbody tr th {\n",
       "        vertical-align: top;\n",
       "    }\n",
       "\n",
       "    .dataframe thead th {\n",
       "        text-align: right;\n",
       "    }\n",
       "</style>\n",
       "<table border=\"1\" class=\"dataframe\">\n",
       "  <thead>\n",
       "    <tr style=\"text-align: right;\">\n",
       "      <th></th>\n",
       "      <th>Report Number</th>\n",
       "      <th>Occur Date</th>\n",
       "      <th>UCR Literal</th>\n",
       "      <th>Year</th>\n",
       "      <th>Month</th>\n",
       "      <th>MMM</th>\n",
       "      <th>Crime Categories</th>\n",
       "    </tr>\n",
       "  </thead>\n",
       "  <tbody>\n",
       "    <tr>\n",
       "      <th>140</th>\n",
       "      <td>200010590</td>\n",
       "      <td>2020-01-01</td>\n",
       "      <td>ROBBERY</td>\n",
       "      <td>2020.0</td>\n",
       "      <td>1.0</td>\n",
       "      <td>Jan</td>\n",
       "      <td>ROBBERY</td>\n",
       "    </tr>\n",
       "    <tr>\n",
       "      <th>141</th>\n",
       "      <td>200011603</td>\n",
       "      <td>2020-01-01</td>\n",
       "      <td>ROBBERY</td>\n",
       "      <td>2020.0</td>\n",
       "      <td>1.0</td>\n",
       "      <td>Jan</td>\n",
       "      <td>ROBBERY</td>\n",
       "    </tr>\n",
       "    <tr>\n",
       "      <th>142</th>\n",
       "      <td>200011773</td>\n",
       "      <td>2020-01-01</td>\n",
       "      <td>ROBBERY</td>\n",
       "      <td>2020.0</td>\n",
       "      <td>1.0</td>\n",
       "      <td>Jan</td>\n",
       "      <td>ROBBERY</td>\n",
       "    </tr>\n",
       "    <tr>\n",
       "      <th>143</th>\n",
       "      <td>200010724</td>\n",
       "      <td>2020-01-01</td>\n",
       "      <td>AGG ASSAULT</td>\n",
       "      <td>2020.0</td>\n",
       "      <td>1.0</td>\n",
       "      <td>Jan</td>\n",
       "      <td>AGG_ASSAULT</td>\n",
       "    </tr>\n",
       "    <tr>\n",
       "      <th>144</th>\n",
       "      <td>200010628</td>\n",
       "      <td>2020-01-01</td>\n",
       "      <td>AGG ASSAULT</td>\n",
       "      <td>2020.0</td>\n",
       "      <td>1.0</td>\n",
       "      <td>Jan</td>\n",
       "      <td>AGG_ASSAULT</td>\n",
       "    </tr>\n",
       "    <tr>\n",
       "      <th>...</th>\n",
       "      <td>...</td>\n",
       "      <td>...</td>\n",
       "      <td>...</td>\n",
       "      <td>...</td>\n",
       "      <td>...</td>\n",
       "      <td>...</td>\n",
       "      <td>...</td>\n",
       "    </tr>\n",
       "    <tr>\n",
       "      <th>182</th>\n",
       "      <td>210040328</td>\n",
       "      <td>2020-12-31</td>\n",
       "      <td>LARCENY-NON VEHICLE</td>\n",
       "      <td>2020.0</td>\n",
       "      <td>12.0</td>\n",
       "      <td>Dec</td>\n",
       "      <td>LARCENY_NON_VEHICLE</td>\n",
       "    </tr>\n",
       "    <tr>\n",
       "      <th>183</th>\n",
       "      <td>210040706</td>\n",
       "      <td>2020-12-31</td>\n",
       "      <td>AUTO THEFT</td>\n",
       "      <td>2020.0</td>\n",
       "      <td>12.0</td>\n",
       "      <td>Dec</td>\n",
       "      <td>AUTO_THEFT</td>\n",
       "    </tr>\n",
       "    <tr>\n",
       "      <th>184</th>\n",
       "      <td>210080540</td>\n",
       "      <td>2020-12-31</td>\n",
       "      <td>LARCENY-NON VEHICLE</td>\n",
       "      <td>2020.0</td>\n",
       "      <td>12.0</td>\n",
       "      <td>Dec</td>\n",
       "      <td>LARCENY_NON_VEHICLE</td>\n",
       "    </tr>\n",
       "    <tr>\n",
       "      <th>185</th>\n",
       "      <td>210110879</td>\n",
       "      <td>2020-12-31</td>\n",
       "      <td>LARCENY-FROM VEHICLE</td>\n",
       "      <td>2020.0</td>\n",
       "      <td>12.0</td>\n",
       "      <td>Dec</td>\n",
       "      <td>LARCENY_FROM_VEHICLE</td>\n",
       "    </tr>\n",
       "    <tr>\n",
       "      <th>186</th>\n",
       "      <td>210141570</td>\n",
       "      <td>2020-12-31</td>\n",
       "      <td>LARCENY-NON VEHICLE</td>\n",
       "      <td>2020.0</td>\n",
       "      <td>12.0</td>\n",
       "      <td>Dec</td>\n",
       "      <td>LARCENY_NON_VEHICLE</td>\n",
       "    </tr>\n",
       "  </tbody>\n",
       "</table>\n",
       "<p>22095 rows × 7 columns</p>\n",
       "</div>"
      ],
      "text/plain": [
       "     Report Number Occur Date           UCR Literal    Year  Month  MMM  \\\n",
       "140      200010590 2020-01-01               ROBBERY  2020.0    1.0  Jan   \n",
       "141      200011603 2020-01-01               ROBBERY  2020.0    1.0  Jan   \n",
       "142      200011773 2020-01-01               ROBBERY  2020.0    1.0  Jan   \n",
       "143      200010724 2020-01-01           AGG ASSAULT  2020.0    1.0  Jan   \n",
       "144      200010628 2020-01-01           AGG ASSAULT  2020.0    1.0  Jan   \n",
       "..             ...        ...                   ...     ...    ...  ...   \n",
       "182      210040328 2020-12-31   LARCENY-NON VEHICLE  2020.0   12.0  Dec   \n",
       "183      210040706 2020-12-31            AUTO THEFT  2020.0   12.0  Dec   \n",
       "184      210080540 2020-12-31   LARCENY-NON VEHICLE  2020.0   12.0  Dec   \n",
       "185      210110879 2020-12-31  LARCENY-FROM VEHICLE  2020.0   12.0  Dec   \n",
       "186      210141570 2020-12-31   LARCENY-NON VEHICLE  2020.0   12.0  Dec   \n",
       "\n",
       "         Crime Categories  \n",
       "140               ROBBERY  \n",
       "141               ROBBERY  \n",
       "142               ROBBERY  \n",
       "143           AGG_ASSAULT  \n",
       "144           AGG_ASSAULT  \n",
       "..                    ...  \n",
       "182   LARCENY_NON_VEHICLE  \n",
       "183            AUTO_THEFT  \n",
       "184   LARCENY_NON_VEHICLE  \n",
       "185  LARCENY_FROM_VEHICLE  \n",
       "186   LARCENY_NON_VEHICLE  \n",
       "\n",
       "[22095 rows x 7 columns]"
      ]
     },
     "execution_count": 112,
     "metadata": {},
     "output_type": "execute_result"
    }
   ],
   "source": [
    "crimes_2020_df"
   ]
  },
  {
   "cell_type": "code",
   "execution_count": 110,
   "id": "da07e89f",
   "metadata": {},
   "outputs": [],
   "source": [
    "type_crimes_df = crimes_2020_df.groupby([\"Occur Date\", \"Crime Categories\"]).count()"
   ]
  },
  {
   "cell_type": "code",
   "execution_count": 113,
   "id": "c0dc56ad",
   "metadata": {},
   "outputs": [
    {
     "data": {
      "text/html": [
       "<div>\n",
       "<style scoped>\n",
       "    .dataframe tbody tr th:only-of-type {\n",
       "        vertical-align: middle;\n",
       "    }\n",
       "\n",
       "    .dataframe tbody tr th {\n",
       "        vertical-align: top;\n",
       "    }\n",
       "\n",
       "    .dataframe thead th {\n",
       "        text-align: right;\n",
       "    }\n",
       "</style>\n",
       "<table border=\"1\" class=\"dataframe\">\n",
       "  <thead>\n",
       "    <tr style=\"text-align: right;\">\n",
       "      <th></th>\n",
       "      <th></th>\n",
       "      <th>Report Number</th>\n",
       "      <th>UCR Literal</th>\n",
       "      <th>Year</th>\n",
       "      <th>Month</th>\n",
       "      <th>MMM</th>\n",
       "    </tr>\n",
       "    <tr>\n",
       "      <th>Occur Date</th>\n",
       "      <th>Crime Categories</th>\n",
       "      <th></th>\n",
       "      <th></th>\n",
       "      <th></th>\n",
       "      <th></th>\n",
       "      <th></th>\n",
       "    </tr>\n",
       "  </thead>\n",
       "  <tbody>\n",
       "    <tr>\n",
       "      <th rowspan=\"5\" valign=\"top\">2020-01-01</th>\n",
       "      <th>AGG_ASSAULT</th>\n",
       "      <td>7</td>\n",
       "      <td>7</td>\n",
       "      <td>7</td>\n",
       "      <td>7</td>\n",
       "      <td>7</td>\n",
       "    </tr>\n",
       "    <tr>\n",
       "      <th>AUTO_THEFT</th>\n",
       "      <td>10</td>\n",
       "      <td>10</td>\n",
       "      <td>10</td>\n",
       "      <td>10</td>\n",
       "      <td>10</td>\n",
       "    </tr>\n",
       "    <tr>\n",
       "      <th>BURGLARY</th>\n",
       "      <td>6</td>\n",
       "      <td>6</td>\n",
       "      <td>6</td>\n",
       "      <td>6</td>\n",
       "      <td>6</td>\n",
       "    </tr>\n",
       "    <tr>\n",
       "      <th>LARCENY_FROM_VEHICLE</th>\n",
       "      <td>30</td>\n",
       "      <td>30</td>\n",
       "      <td>30</td>\n",
       "      <td>30</td>\n",
       "      <td>30</td>\n",
       "    </tr>\n",
       "    <tr>\n",
       "      <th>LARCENY_NON_VEHICLE</th>\n",
       "      <td>18</td>\n",
       "      <td>18</td>\n",
       "      <td>18</td>\n",
       "      <td>18</td>\n",
       "      <td>18</td>\n",
       "    </tr>\n",
       "  </tbody>\n",
       "</table>\n",
       "</div>"
      ],
      "text/plain": [
       "                                 Report Number  UCR Literal  Year  Month  MMM\n",
       "Occur Date Crime Categories                                                  \n",
       "2020-01-01 AGG_ASSAULT                       7            7     7      7    7\n",
       "           AUTO_THEFT                       10           10    10     10   10\n",
       "           BURGLARY                          6            6     6      6    6\n",
       "           LARCENY_FROM_VEHICLE             30           30    30     30   30\n",
       "           LARCENY_NON_VEHICLE              18           18    18     18   18"
      ]
     },
     "execution_count": 113,
     "metadata": {},
     "output_type": "execute_result"
    }
   ],
   "source": [
    "type_crimes_df.head()"
   ]
  },
  {
   "cell_type": "code",
   "execution_count": 104,
   "id": "6506eb7a",
   "metadata": {},
   "outputs": [],
   "source": [
    "type_crimes = list(type_crimes_2020_df['Crime Categories'].unique())"
   ]
  },
  {
   "cell_type": "code",
   "execution_count": 106,
   "id": "1fb5bd23",
   "metadata": {},
   "outputs": [
    {
     "data": {
      "text/plain": [
       "['ROBBERY',\n",
       " 'AGG_ASSAULT',\n",
       " 'BURGLARY',\n",
       " 'LARCENY_NON_VEHICLE',\n",
       " 'LARCENY_FROM_VEHICLE',\n",
       " 'AUTO_THEFT',\n",
       " 'HOMICIDE',\n",
       " 'MANSLAUGHTER']"
      ]
     },
     "execution_count": 106,
     "metadata": {},
     "output_type": "execute_result"
    }
   ],
   "source": [
    "type_crimes"
   ]
  },
  {
   "cell_type": "code",
   "execution_count": 114,
   "id": "ef914b66",
   "metadata": {},
   "outputs": [
    {
     "ename": "KeyError",
     "evalue": "'Crime Categories'",
     "output_type": "error",
     "traceback": [
      "\u001b[0;31m---------------------------------------------------------------------------\u001b[0m",
      "\u001b[0;31mKeyError\u001b[0m                                  Traceback (most recent call last)",
      "\u001b[0;32m~/anaconda3/lib/python3.8/site-packages/pandas/core/indexes/base.py\u001b[0m in \u001b[0;36mget_loc\u001b[0;34m(self, key, method, tolerance)\u001b[0m\n\u001b[1;32m   3360\u001b[0m             \u001b[0;32mtry\u001b[0m\u001b[0;34m:\u001b[0m\u001b[0;34m\u001b[0m\u001b[0;34m\u001b[0m\u001b[0m\n\u001b[0;32m-> 3361\u001b[0;31m                 \u001b[0;32mreturn\u001b[0m \u001b[0mself\u001b[0m\u001b[0;34m.\u001b[0m\u001b[0m_engine\u001b[0m\u001b[0;34m.\u001b[0m\u001b[0mget_loc\u001b[0m\u001b[0;34m(\u001b[0m\u001b[0mcasted_key\u001b[0m\u001b[0;34m)\u001b[0m\u001b[0;34m\u001b[0m\u001b[0;34m\u001b[0m\u001b[0m\n\u001b[0m\u001b[1;32m   3362\u001b[0m             \u001b[0;32mexcept\u001b[0m \u001b[0mKeyError\u001b[0m \u001b[0;32mas\u001b[0m \u001b[0merr\u001b[0m\u001b[0;34m:\u001b[0m\u001b[0;34m\u001b[0m\u001b[0;34m\u001b[0m\u001b[0m\n",
      "\u001b[0;32m~/anaconda3/lib/python3.8/site-packages/pandas/_libs/index.pyx\u001b[0m in \u001b[0;36mpandas._libs.index.IndexEngine.get_loc\u001b[0;34m()\u001b[0m\n",
      "\u001b[0;32m~/anaconda3/lib/python3.8/site-packages/pandas/_libs/index.pyx\u001b[0m in \u001b[0;36mpandas._libs.index.IndexEngine.get_loc\u001b[0;34m()\u001b[0m\n",
      "\u001b[0;32mpandas/_libs/hashtable_class_helper.pxi\u001b[0m in \u001b[0;36mpandas._libs.hashtable.PyObjectHashTable.get_item\u001b[0;34m()\u001b[0m\n",
      "\u001b[0;32mpandas/_libs/hashtable_class_helper.pxi\u001b[0m in \u001b[0;36mpandas._libs.hashtable.PyObjectHashTable.get_item\u001b[0;34m()\u001b[0m\n",
      "\u001b[0;31mKeyError\u001b[0m: 'Crime Categories'",
      "\nThe above exception was the direct cause of the following exception:\n",
      "\u001b[0;31mKeyError\u001b[0m                                  Traceback (most recent call last)",
      "\u001b[0;32m/tmp/ipykernel_2861/2248022343.py\u001b[0m in \u001b[0;36m<module>\u001b[0;34m\u001b[0m\n\u001b[1;32m      2\u001b[0m \u001b[0;32mfor\u001b[0m \u001b[0mi\u001b[0m \u001b[0;32min\u001b[0m \u001b[0mtype_crimes\u001b[0m\u001b[0;34m:\u001b[0m\u001b[0;34m\u001b[0m\u001b[0;34m\u001b[0m\u001b[0m\n\u001b[1;32m      3\u001b[0m     \u001b[0mind\u001b[0m \u001b[0;34m=\u001b[0m \u001b[0mtype_crimes\u001b[0m\u001b[0;34m.\u001b[0m\u001b[0mindex\u001b[0m\u001b[0;34m(\u001b[0m\u001b[0mi\u001b[0m\u001b[0;34m)\u001b[0m\u001b[0;34m\u001b[0m\u001b[0;34m\u001b[0m\u001b[0m\n\u001b[0;32m----> 4\u001b[0;31m     \u001b[0mfilt\u001b[0m \u001b[0;34m=\u001b[0m \u001b[0mtype_crimes_df\u001b[0m\u001b[0;34m[\u001b[0m\u001b[0;34m'Crime Categories'\u001b[0m\u001b[0;34m]\u001b[0m \u001b[0;34m==\u001b[0m \u001b[0mi\u001b[0m \u001b[0;31m#filter the dataframe for each item in the list\u001b[0m\u001b[0;34m\u001b[0m\u001b[0;34m\u001b[0m\u001b[0m\n\u001b[0m\u001b[1;32m      5\u001b[0m     \u001b[0max\u001b[0m\u001b[0;34m[\u001b[0m\u001b[0mind\u001b[0m\u001b[0;34m]\u001b[0m\u001b[0;34m.\u001b[0m\u001b[0mset_title\u001b[0m\u001b[0;34m(\u001b[0m\u001b[0mi\u001b[0m\u001b[0;34m,\u001b[0m \u001b[0msize\u001b[0m\u001b[0;34m=\u001b[0m\u001b[0;36m10\u001b[0m\u001b[0;34m)\u001b[0m\u001b[0;34m\u001b[0m\u001b[0;34m\u001b[0m\u001b[0m\n\u001b[1;32m      6\u001b[0m     \u001b[0max\u001b[0m\u001b[0;34m[\u001b[0m\u001b[0mind\u001b[0m\u001b[0;34m]\u001b[0m\u001b[0;34m.\u001b[0m\u001b[0mplot\u001b[0m\u001b[0;34m(\u001b[0m\u001b[0mtype_crimes_df\u001b[0m\u001b[0;34m.\u001b[0m\u001b[0mloc\u001b[0m\u001b[0;34m[\u001b[0m\u001b[0mfilt\u001b[0m\u001b[0;34m]\u001b[0m\u001b[0;34m[\u001b[0m\u001b[0;34m'Occur Date'\u001b[0m\u001b[0;34m]\u001b[0m\u001b[0;34m,\u001b[0m\u001b[0mtype_crimes_df\u001b[0m\u001b[0;34m.\u001b[0m\u001b[0mloc\u001b[0m\u001b[0;34m[\u001b[0m\u001b[0mfilt\u001b[0m\u001b[0;34m]\u001b[0m\u001b[0;34m[\u001b[0m\u001b[0;34m'Report Number'\u001b[0m\u001b[0;34m]\u001b[0m\u001b[0;34m)\u001b[0m\u001b[0;34m\u001b[0m\u001b[0;34m\u001b[0m\u001b[0m\n",
      "\u001b[0;32m~/anaconda3/lib/python3.8/site-packages/pandas/core/frame.py\u001b[0m in \u001b[0;36m__getitem__\u001b[0;34m(self, key)\u001b[0m\n\u001b[1;32m   3456\u001b[0m             \u001b[0;32mif\u001b[0m \u001b[0mself\u001b[0m\u001b[0;34m.\u001b[0m\u001b[0mcolumns\u001b[0m\u001b[0;34m.\u001b[0m\u001b[0mnlevels\u001b[0m \u001b[0;34m>\u001b[0m \u001b[0;36m1\u001b[0m\u001b[0;34m:\u001b[0m\u001b[0;34m\u001b[0m\u001b[0;34m\u001b[0m\u001b[0m\n\u001b[1;32m   3457\u001b[0m                 \u001b[0;32mreturn\u001b[0m \u001b[0mself\u001b[0m\u001b[0;34m.\u001b[0m\u001b[0m_getitem_multilevel\u001b[0m\u001b[0;34m(\u001b[0m\u001b[0mkey\u001b[0m\u001b[0;34m)\u001b[0m\u001b[0;34m\u001b[0m\u001b[0;34m\u001b[0m\u001b[0m\n\u001b[0;32m-> 3458\u001b[0;31m             \u001b[0mindexer\u001b[0m \u001b[0;34m=\u001b[0m \u001b[0mself\u001b[0m\u001b[0;34m.\u001b[0m\u001b[0mcolumns\u001b[0m\u001b[0;34m.\u001b[0m\u001b[0mget_loc\u001b[0m\u001b[0;34m(\u001b[0m\u001b[0mkey\u001b[0m\u001b[0;34m)\u001b[0m\u001b[0;34m\u001b[0m\u001b[0;34m\u001b[0m\u001b[0m\n\u001b[0m\u001b[1;32m   3459\u001b[0m             \u001b[0;32mif\u001b[0m \u001b[0mis_integer\u001b[0m\u001b[0;34m(\u001b[0m\u001b[0mindexer\u001b[0m\u001b[0;34m)\u001b[0m\u001b[0;34m:\u001b[0m\u001b[0;34m\u001b[0m\u001b[0;34m\u001b[0m\u001b[0m\n\u001b[1;32m   3460\u001b[0m                 \u001b[0mindexer\u001b[0m \u001b[0;34m=\u001b[0m \u001b[0;34m[\u001b[0m\u001b[0mindexer\u001b[0m\u001b[0;34m]\u001b[0m\u001b[0;34m\u001b[0m\u001b[0;34m\u001b[0m\u001b[0m\n",
      "\u001b[0;32m~/anaconda3/lib/python3.8/site-packages/pandas/core/indexes/base.py\u001b[0m in \u001b[0;36mget_loc\u001b[0;34m(self, key, method, tolerance)\u001b[0m\n\u001b[1;32m   3361\u001b[0m                 \u001b[0;32mreturn\u001b[0m \u001b[0mself\u001b[0m\u001b[0;34m.\u001b[0m\u001b[0m_engine\u001b[0m\u001b[0;34m.\u001b[0m\u001b[0mget_loc\u001b[0m\u001b[0;34m(\u001b[0m\u001b[0mcasted_key\u001b[0m\u001b[0;34m)\u001b[0m\u001b[0;34m\u001b[0m\u001b[0;34m\u001b[0m\u001b[0m\n\u001b[1;32m   3362\u001b[0m             \u001b[0;32mexcept\u001b[0m \u001b[0mKeyError\u001b[0m \u001b[0;32mas\u001b[0m \u001b[0merr\u001b[0m\u001b[0;34m:\u001b[0m\u001b[0;34m\u001b[0m\u001b[0;34m\u001b[0m\u001b[0m\n\u001b[0;32m-> 3363\u001b[0;31m                 \u001b[0;32mraise\u001b[0m \u001b[0mKeyError\u001b[0m\u001b[0;34m(\u001b[0m\u001b[0mkey\u001b[0m\u001b[0;34m)\u001b[0m \u001b[0;32mfrom\u001b[0m \u001b[0merr\u001b[0m\u001b[0;34m\u001b[0m\u001b[0;34m\u001b[0m\u001b[0m\n\u001b[0m\u001b[1;32m   3364\u001b[0m \u001b[0;34m\u001b[0m\u001b[0m\n\u001b[1;32m   3365\u001b[0m         \u001b[0;32mif\u001b[0m \u001b[0mis_scalar\u001b[0m\u001b[0;34m(\u001b[0m\u001b[0mkey\u001b[0m\u001b[0;34m)\u001b[0m \u001b[0;32mand\u001b[0m \u001b[0misna\u001b[0m\u001b[0;34m(\u001b[0m\u001b[0mkey\u001b[0m\u001b[0;34m)\u001b[0m \u001b[0;32mand\u001b[0m \u001b[0;32mnot\u001b[0m \u001b[0mself\u001b[0m\u001b[0;34m.\u001b[0m\u001b[0mhasnans\u001b[0m\u001b[0;34m:\u001b[0m\u001b[0;34m\u001b[0m\u001b[0;34m\u001b[0m\u001b[0m\n",
      "\u001b[0;31mKeyError\u001b[0m: 'Crime Categories'"
     ]
    },
    {
     "data": {
      "image/png": "[encoded data removed]",
      "text/plain": [
       "<Figure size 864x2016 with 8 Axes>"
      ]
     },
     "metadata": {
      "needs_background": "light"
     },
     "output_type": "display_data"
    }
   ],
   "source": [
    "fig, ax = plt.subplots(nrows=len(type_crimes), figsize=(12,len(type_crimes)*3.5))\n",
    "for i in type_crimes:\n",
    "    ind = type_crimes.index(i)\n",
    "    filt = type_crimes_df['Crime Categories'] == i #filter the dataframe for each item in the list\n",
    "    ax[ind].set_title(i, size=10)\n",
    "    ax[ind].plot(type_crimes_df.loc[filt]['Occur Date'],type_crimes_df.loc[filt]['Report Number'])\n",
    "    ax[ind].xaxis.set_major_locator(mdates.MonthLocator(interval=1))\n",
    "    # X axis ticks will be displayed in 'YYYY-MMM' format.\n",
    "    ax[ind].xaxis.set_major_formatter(mdates.DateFormatter('%Y-%b'))\n",
    "    plt.tight_layout()\n",
    "    #plt.savefig('images/Crime Categories (2020)', dpi=100)"
   ]
  },
  {
   "cell_type": "code",
   "execution_count": null,
   "id": "12b3baeb",
   "metadata": {},
   "outputs": [],
   "source": []
  },
  {
   "cell_type": "code",
   "execution_count": null,
   "id": "90dfb72b",
   "metadata": {},
   "outputs": [],
   "source": []
  }
 ],
 "metadata": {
  "kernelspec": {
   "display_name": "Python 3 (ipykernel)",
   "language": "python",
   "name": "python3"
  },
  "language_info": {
   "codemirror_mode": {
    "name": "ipython",
    "version": 3
   },
   "file_extension": ".py",
   "mimetype": "text/x-python",
   "name": "python",
   "nbconvert_exporter": "python",
   "pygments_lexer": "ipython3",
   "version": "3.8.12"
  }
 },
 "nbformat": 4,
 "nbformat_minor": 5
}
